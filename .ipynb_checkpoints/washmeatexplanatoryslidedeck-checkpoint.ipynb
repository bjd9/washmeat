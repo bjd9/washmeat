{
 "cells": [
  {
   "cell_type": "markdown",
   "metadata": {
    "slideshow": {
     "slide_type": "slide"
    }
   },
   "source": [
    "# Why people wash meat (or don't) \n",
    "\n",
    "YouTuber (and former public radio reporter) [Adam Ragusea](https://www.youtube.com/user/aragusea/about) [asked his viewers](https://youtu.be/U_PMnCpaJiQ?t=742) in September 2020 to answer a detailed survey about whether (and why and how) they wash meat before cooking it. He received more than 13,000 responses. The data explored and analyzed here is the anomymized data collected. Ragusea published a [video](https://www.youtube.com/watch?v=90Nd_vh3yk8) explaining more around washing meat and his analysis of the data.\n",
    "\n",
    "*Due to the nature of how this data was gathered this was NOT a random sample. Therefore results, analyses, conclusions, and insights should be treated as such.*\n",
    "\n",
    "The aspects analyzed from this survery and that are explored in this document include:\n",
    "* **About the Respondents** - What are the demographics of the respondents?\n",
    "* **Kitchen Practices** - What are the practice in the kitchen when handling meat? How are the practices different based on types of meat?\n",
    "* **Safety Practices** - Is there a difference based on expectations of a commericial versus a home kitchen?\n",
    "\n"
   ]
  },
  {
   "cell_type": "code",
   "execution_count": 4,
   "metadata": {
    "slideshow": {
     "slide_type": "skip"
    }
   },
   "outputs": [],
   "source": [
    "import numpy as np\n",
    "import pandas as pd\n",
    "import matplotlib.pyplot as plt\n",
    "import seaborn as sns \n",
    "%matplotlib inline"
   ]
  },
  {
   "cell_type": "code",
   "execution_count": 5,
   "metadata": {
    "slideshow": {
     "slide_type": "skip"
    }
   },
   "outputs": [
    {
     "name": "stderr",
     "output_type": "stream",
     "text": [
      "/Users/bryandunn/opt/anaconda3/lib/python3.8/site-packages/IPython/core/interactiveshell.py:3146: DtypeWarning: Columns (2,10,11,27,28,29,30,31,32,34,35,36,37,38,39,40,52,53,54,55,56,57,63,64,67) have mixed types.Specify dtype option on import or set low_memory=False.\n",
      "  has_raised = await self.run_ast_nodes(code_ast.body, cell_name,\n"
     ]
    },
    {
     "data": {
      "text/html": [
       "<div>\n",
       "<style scoped>\n",
       "    .dataframe tbody tr th:only-of-type {\n",
       "        vertical-align: middle;\n",
       "    }\n",
       "\n",
       "    .dataframe tbody tr th {\n",
       "        vertical-align: top;\n",
       "    }\n",
       "\n",
       "    .dataframe thead th {\n",
       "        text-align: right;\n",
       "    }\n",
       "</style>\n",
       "<table border=\"1\" class=\"dataframe\">\n",
       "  <thead>\n",
       "    <tr style=\"text-align: right;\">\n",
       "      <th></th>\n",
       "      <th>Timestamp</th>\n",
       "      <th>Do you prepare meat for yourself or others ?</th>\n",
       "      <th>What is your current age?</th>\n",
       "      <th>What is your gender ? (Self-describe using 'other.')</th>\n",
       "      <th>Identify your country or territory of origin</th>\n",
       "      <th>Identify your current country or territory of residency</th>\n",
       "      <th>Current U.S. state of residence</th>\n",
       "      <th>What is your \"race\"? (Categories are those used by the U.S. Census Bureau — check all that apply.)</th>\n",
       "      <th>Are you of Hispanic, Latino, or Spanish origin?</th>\n",
       "      <th>How often do you prepare a meal in your household?</th>\n",
       "      <th>...</th>\n",
       "      <th>If you said \"other,\" please explain..4</th>\n",
       "      <th>If you commonly rinse or soak meat before cooking, you most-often use:</th>\n",
       "      <th>If you commonly soak raw meat before cooking, please indicate how long.</th>\n",
       "      <th>If you do commonly rinse or soak raw meat in anything other than plain water, which of these things do you use? Check as many as apply.</th>\n",
       "      <th>If you do commonly wash any raw meat before cooking, how do you clean up afterward? Check any that apply to you.</th>\n",
       "      <th>When you eat at someone's house, how important is it to you that they be attentive to food safety in their food preparation?</th>\n",
       "      <th>When you eat at a commercial eatery, how important is it to you that they be attentive to food safety in their food preparation?</th>\n",
       "      <th>Is there anything else you wish to share about your food preparation practices?</th>\n",
       "      <th>Are there comments about consumer food safety education or food guidelines that you wish to share?</th>\n",
       "      <th>Unnamed: 67</th>\n",
       "    </tr>\n",
       "  </thead>\n",
       "  <tbody>\n",
       "    <tr>\n",
       "      <th>0</th>\n",
       "      <td>Timestamp</td>\n",
       "      <td>Prep Meat?</td>\n",
       "      <td>Age</td>\n",
       "      <td>Gender</td>\n",
       "      <td>Country Origin</td>\n",
       "      <td>Country Residence</td>\n",
       "      <td>State</td>\n",
       "      <td>Race</td>\n",
       "      <td>Hispanic?</td>\n",
       "      <td>Prep Often</td>\n",
       "      <td>...</td>\n",
       "      <td>If you said \"other,\" please explain.</td>\n",
       "      <td>If you commonly rinse or soak meat before cook...</td>\n",
       "      <td>If you commonly soak raw meat before cooking, ...</td>\n",
       "      <td>If you do commonly rinse or soak raw meat in a...</td>\n",
       "      <td>If you do commonly wash any raw meat before co...</td>\n",
       "      <td>When you eat at someone's house, how important...</td>\n",
       "      <td>When you eat at a commercial eatery, how impor...</td>\n",
       "      <td>Is there anything else you wish to share about...</td>\n",
       "      <td>Are there comments about consumer food safety ...</td>\n",
       "      <td>NaN</td>\n",
       "    </tr>\n",
       "    <tr>\n",
       "      <th>1</th>\n",
       "      <td>9/27/20 21:15</td>\n",
       "      <td>Often</td>\n",
       "      <td>22</td>\n",
       "      <td>Male</td>\n",
       "      <td>Anguilla</td>\n",
       "      <td>United States of America</td>\n",
       "      <td>Alaska</td>\n",
       "      <td>White</td>\n",
       "      <td>No</td>\n",
       "      <td>Often</td>\n",
       "      <td>...</td>\n",
       "      <td>NaN</td>\n",
       "      <td>Hot liquid</td>\n",
       "      <td>1-6 hours</td>\n",
       "      <td>Water (in addition to other things), Salt, Cit...</td>\n",
       "      <td>By cleaning the kitchen sink, By cleaning coun...</td>\n",
       "      <td>1</td>\n",
       "      <td>2</td>\n",
       "      <td>test</td>\n",
       "      <td>test</td>\n",
       "      <td>NaN</td>\n",
       "    </tr>\n",
       "    <tr>\n",
       "      <th>2</th>\n",
       "      <td>9/27/20 21:18</td>\n",
       "      <td>Sometimes</td>\n",
       "      <td>49</td>\n",
       "      <td>Non-binary</td>\n",
       "      <td>United States of America</td>\n",
       "      <td>United States of America</td>\n",
       "      <td>Florida</td>\n",
       "      <td>Asian</td>\n",
       "      <td>Yes</td>\n",
       "      <td>Often</td>\n",
       "      <td>...</td>\n",
       "      <td>NaN</td>\n",
       "      <td>Tepid or warm liquid</td>\n",
       "      <td>30-59 minutes</td>\n",
       "      <td>Vinegar</td>\n",
       "      <td>By cleaning the kitchen sink, By cleaning bowl...</td>\n",
       "      <td>5</td>\n",
       "      <td>5</td>\n",
       "      <td>NaN</td>\n",
       "      <td>NaN</td>\n",
       "      <td>NaN</td>\n",
       "    </tr>\n",
       "    <tr>\n",
       "      <th>3</th>\n",
       "      <td>9/28/20 14:11</td>\n",
       "      <td>Sometimes</td>\n",
       "      <td>32</td>\n",
       "      <td>Male</td>\n",
       "      <td>United States of America</td>\n",
       "      <td>United States of America</td>\n",
       "      <td>Virginia</td>\n",
       "      <td>White</td>\n",
       "      <td>No</td>\n",
       "      <td>Sometimes</td>\n",
       "      <td>...</td>\n",
       "      <td>NaN</td>\n",
       "      <td>NaN</td>\n",
       "      <td>NaN</td>\n",
       "      <td>NaN</td>\n",
       "      <td>NaN</td>\n",
       "      <td>4</td>\n",
       "      <td>5</td>\n",
       "      <td>NaN</td>\n",
       "      <td>NaN</td>\n",
       "      <td>NaN</td>\n",
       "    </tr>\n",
       "    <tr>\n",
       "      <th>4</th>\n",
       "      <td>9/28/20 14:12</td>\n",
       "      <td>Often</td>\n",
       "      <td>30</td>\n",
       "      <td>Male</td>\n",
       "      <td>Korea (Republic of)</td>\n",
       "      <td>United States of America</td>\n",
       "      <td>Indiana</td>\n",
       "      <td>Asian</td>\n",
       "      <td>No</td>\n",
       "      <td>Often</td>\n",
       "      <td>...</td>\n",
       "      <td>NaN</td>\n",
       "      <td>NaN</td>\n",
       "      <td>NaN</td>\n",
       "      <td>NaN</td>\n",
       "      <td>NaN</td>\n",
       "      <td>4</td>\n",
       "      <td>5</td>\n",
       "      <td>I grew up with a (Korean) mother who always wa...</td>\n",
       "      <td>NaN</td>\n",
       "      <td>NaN</td>\n",
       "    </tr>\n",
       "  </tbody>\n",
       "</table>\n",
       "<p>5 rows × 68 columns</p>\n",
       "</div>"
      ],
      "text/plain": [
       "       Timestamp Do you prepare meat for yourself or others ?  \\\n",
       "0      Timestamp                                   Prep Meat?   \n",
       "1  9/27/20 21:15                                        Often   \n",
       "2  9/27/20 21:18                                    Sometimes   \n",
       "3  9/28/20 14:11                                    Sometimes   \n",
       "4  9/28/20 14:12                                        Often   \n",
       "\n",
       "  What is your current age?   \\\n",
       "0                        Age   \n",
       "1                         22   \n",
       "2                         49   \n",
       "3                         32   \n",
       "4                         30   \n",
       "\n",
       "  What is your gender ? (Self-describe using 'other.')  \\\n",
       "0                                             Gender     \n",
       "1                                               Male     \n",
       "2                                         Non-binary     \n",
       "3                                               Male     \n",
       "4                                               Male     \n",
       "\n",
       "  Identify your country or territory of origin  \\\n",
       "0                               Country Origin   \n",
       "1                                     Anguilla   \n",
       "2                     United States of America   \n",
       "3                     United States of America   \n",
       "4                          Korea (Republic of)   \n",
       "\n",
       "  Identify your current country or territory of residency  \\\n",
       "0                                  Country Residence        \n",
       "1                           United States of America        \n",
       "2                           United States of America        \n",
       "3                           United States of America        \n",
       "4                           United States of America        \n",
       "\n",
       "  Current U.S. state of residence   \\\n",
       "0                            State   \n",
       "1                           Alaska   \n",
       "2                          Florida   \n",
       "3                         Virginia   \n",
       "4                          Indiana   \n",
       "\n",
       "  What is your \"race\"? (Categories are those used by the U.S. Census Bureau — check all that apply.)  \\\n",
       "0                                               Race                                                   \n",
       "1                                              White                                                   \n",
       "2                                              Asian                                                   \n",
       "3                                              White                                                   \n",
       "4                                              Asian                                                   \n",
       "\n",
       "  Are you of Hispanic, Latino, or Spanish origin?  \\\n",
       "0                                       Hispanic?   \n",
       "1                                              No   \n",
       "2                                             Yes   \n",
       "3                                              No   \n",
       "4                                              No   \n",
       "\n",
       "  How often do you prepare a meal in your household?  ...  \\\n",
       "0                                         Prep Often  ...   \n",
       "1                                              Often  ...   \n",
       "2                                              Often  ...   \n",
       "3                                          Sometimes  ...   \n",
       "4                                              Often  ...   \n",
       "\n",
       "  If you said \"other,\" please explain..4  \\\n",
       "0   If you said \"other,\" please explain.   \n",
       "1                                    NaN   \n",
       "2                                    NaN   \n",
       "3                                    NaN   \n",
       "4                                    NaN   \n",
       "\n",
       "  If you commonly rinse or soak meat before cooking, you most-often use:  \\\n",
       "0  If you commonly rinse or soak meat before cook...                       \n",
       "1                                         Hot liquid                       \n",
       "2                               Tepid or warm liquid                       \n",
       "3                                                NaN                       \n",
       "4                                                NaN                       \n",
       "\n",
       "  If you commonly soak raw meat before cooking, please indicate how long.  \\\n",
       "0  If you commonly soak raw meat before cooking, ...                        \n",
       "1                                          1-6 hours                        \n",
       "2                                      30-59 minutes                        \n",
       "3                                                NaN                        \n",
       "4                                                NaN                        \n",
       "\n",
       "  If you do commonly rinse or soak raw meat in anything other than plain water, which of these things do you use? Check as many as apply.  \\\n",
       "0  If you do commonly rinse or soak raw meat in a...                                                                                        \n",
       "1  Water (in addition to other things), Salt, Cit...                                                                                        \n",
       "2                                            Vinegar                                                                                        \n",
       "3                                                NaN                                                                                        \n",
       "4                                                NaN                                                                                        \n",
       "\n",
       "  If you do commonly wash any raw meat before cooking, how do you clean up afterward? Check any that apply to you.  \\\n",
       "0  If you do commonly wash any raw meat before co...                                                                 \n",
       "1  By cleaning the kitchen sink, By cleaning coun...                                                                 \n",
       "2  By cleaning the kitchen sink, By cleaning bowl...                                                                 \n",
       "3                                                NaN                                                                 \n",
       "4                                                NaN                                                                 \n",
       "\n",
       "  When you eat at someone's house, how important is it to you that they be attentive to food safety in their food preparation?  \\\n",
       "0  When you eat at someone's house, how important...                                                                             \n",
       "1                                                  1                                                                             \n",
       "2                                                  5                                                                             \n",
       "3                                                  4                                                                             \n",
       "4                                                  4                                                                             \n",
       "\n",
       "  When you eat at a commercial eatery, how important is it to you that they be attentive to food safety in their food preparation?  \\\n",
       "0  When you eat at a commercial eatery, how impor...                                                                                 \n",
       "1                                                  2                                                                                 \n",
       "2                                                  5                                                                                 \n",
       "3                                                  5                                                                                 \n",
       "4                                                  5                                                                                 \n",
       "\n",
       "  Is there anything else you wish to share about your food preparation practices?  \\\n",
       "0  Is there anything else you wish to share about...                                \n",
       "1                                               test                                \n",
       "2                                                NaN                                \n",
       "3                                                NaN                                \n",
       "4  I grew up with a (Korean) mother who always wa...                                \n",
       "\n",
       "  Are there comments about consumer food safety education or food guidelines that you wish to share?   \\\n",
       "0  Are there comments about consumer food safety ...                                                    \n",
       "1                                               test                                                    \n",
       "2                                                NaN                                                    \n",
       "3                                                NaN                                                    \n",
       "4                                                NaN                                                    \n",
       "\n",
       "  Unnamed: 67  \n",
       "0         NaN  \n",
       "1         NaN  \n",
       "2         NaN  \n",
       "3         NaN  \n",
       "4         NaN  \n",
       "\n",
       "[5 rows x 68 columns]"
      ]
     },
     "execution_count": 5,
     "metadata": {},
     "output_type": "execute_result"
    }
   ],
   "source": [
    "# read file with survey results\n",
    "df_survey = pd.read_csv('data/RaguseaMeatWashingSurveyResponsesRaw.csv')\n",
    "\n",
    "df_survey.head()"
   ]
  },
  {
   "cell_type": "code",
   "execution_count": 6,
   "metadata": {
    "slideshow": {
     "slide_type": "skip"
    }
   },
   "outputs": [
    {
     "data": {
      "text/plain": [
       "(13528, 68)"
      ]
     },
     "execution_count": 6,
     "metadata": {},
     "output_type": "execute_result"
    }
   ],
   "source": [
    "df_survey.shape"
   ]
  },
  {
   "cell_type": "markdown",
   "metadata": {
    "slideshow": {
     "slide_type": "skip"
    }
   },
   "source": [
    "<div class=\"alert alert-block alert-warning\">\n",
    "\n",
    "<b>Tidiness Issue #1:</b> Column names often contain full sentences of the questions from the survey. \n",
    "\n",
    "SOLUTION: Column names are renamed to more concise title. \n",
    "    </div>"
   ]
  },
  {
   "cell_type": "code",
   "execution_count": 7,
   "metadata": {
    "slideshow": {
     "slide_type": "skip"
    }
   },
   "outputs": [],
   "source": [
    "# rename 'tweet_id' to 'id' in twitter_archive\n",
    "df_survey.rename(columns={'Timestamp' : 'timestamp',\n",
    "                          'Do you prepare meat for yourself or others ?' : 'prepare_meat', \n",
    "                          'What is your current age? ' : 'age', \n",
    "                          \"What is your gender ? (Self-describe using 'other.')\" : 'gender', \n",
    "                          'Identify your country or territory of origin' : 'country_origin',\n",
    "                          'Identify your current country or territory of residency' : 'country_residency',\n",
    "                          'Current U.S. state of residence ' : 'us_state_residency',\n",
    "                          'What is your \"race\"? (Categories are those used by the U.S. Census Bureau — check all that apply.)' : 'race',\n",
    "                          'Are you of Hispanic, Latino, or Spanish origin?' : 'hispanic',\n",
    "                          'How often do you prepare a meal in your household?' : 'times_prepare_meal',\n",
    "                          'How many people are in your household?' : 'household_size',\n",
    "                          'How  important is food safety to you when you cook?' : 'importance_food_safety_cooking',\n",
    "                          'Which of the following do you do regularly when cooking, preparing and consuming food products? (Check all that apply)' : 'follow_when_cooking',\n",
    "                          'Before you begin to prepare food in your kitchen, how often do you wash your hands with soap and warm water for at least 20 seconds?' : 'often_wash_hands',\n",
    "                          'Please indicate how often you do each of the following [Use different plates for handling raw meat and cooked meat]' : 'often_different_plates',\n",
    "                          'Please indicate how often you do each of the following [Use a food thermometer to check the doneness for red meat, pork or poultry]' : 'often_thermometer',\n",
    "                          'Please indicate how often you do each of the following [Not wash utensils used to handle raw food before they are used for cooked food]' : 'often_not_wash_utensils',\n",
    "                          'Please indicate how often you do each of the following [Use the same cutting board without cleaning it with hot soapy water between using it for raw meat or chicken and using it for ready-to-eat food]' : 'often_not_wash_cutting_board',\n",
    "                          'Please indicate how often you do each of the following [Leave perishable food out of the refrigerator for more than two hours]' : 'often_leave_food_2hrs',\n",
    "                          'For each of the following raw meats, please check the box if you commonly wash or do not wash it before cooking. If you don’t eat it at all, leave the boxes blank. (Categories are those identified by the U.N. FAO as the most globally popular meats, plus fish and ground meat.) [Pork (pigs)]' : 'wash_pork',\n",
    "                          'For each of the following raw meats, please check the box if you commonly wash or do not wash it before cooking. If you don’t eat it at all, leave the boxes blank. (Categories are those identified by the U.N. FAO as the most globally popular meats, plus fish and ground meat.) [Poultry (chicken, turkey, duck, any other bird)]' : 'wash_poultry', \n",
    "                          'For each of the following raw meats, please check the box if you commonly wash or do not wash it before cooking. If you don’t eat it at all, leave the boxes blank. (Categories are those identified by the U.N. FAO as the most globally popular meats, plus fish and ground meat.) [Beef (cattle or buffalo)]' : 'wash_beef',\n",
    "                          'For each of the following raw meats, please check the box if you commonly wash or do not wash it before cooking. If you don’t eat it at all, leave the boxes blank. (Categories are those identified by the U.N. FAO as the most globally popular meats, plus fish and ground meat.) [Sheep (lamb) or goat]' : 'wash_lamb_goat',\n",
    "                          'For each of the following raw meats, please check the box if you commonly wash or do not wash it before cooking. If you don’t eat it at all, leave the boxes blank. (Categories are those identified by the U.N. FAO as the most globally popular meats, plus fish and ground meat.) [Fish (marine, fresh water, finned, shellfish, etc.)]' : 'wash_fish',\n",
    "                          'For each of the following raw meats, please check the box if you commonly wash or do not wash it before cooking. If you don’t eat it at all, leave the boxes blank. (Categories are those identified by the U.N. FAO as the most globally popular meats, plus fish and ground meat.) [Ground meat]' : 'wash_ground_meat',\n",
    "                          'For each of the following raw meats, please check the box if you commonly wash or do not wash it before cooking. If you don’t eat it at all, leave the boxes blank. (Categories are those identified by the U.N. FAO as the most globally popular meats, plus fish and ground meat.) [Other]' : 'wash_other',\n",
    "                          'If you said \"other,\" please explain.' : 'wash_other_comments',\n",
    "                          'If you don’t commonly wash raw meat before cooking, please rank the following reasons, with #1 being the most relevant to you, #2 next most relevant, and so on. If something isn’t relevant, leave the box blank. (You may only choose one row per ranking column.) [I feel like I should wash the meat, but I don’t.]' : \"donot_rank_should\",\n",
    "                          'If you don’t commonly wash raw meat before cooking, please rank the following reasons, with #1 being the most relevant to you, #2 next most relevant, and so on. If something isn’t relevant, leave the box blank. (You may only choose one row per ranking column.) [I believe the meat is already clean enough.]' : \"donot_rank_clean_enough\",\n",
    "                          'If you don’t commonly wash raw meat before cooking, please rank the following reasons, with #1 being the most relevant to you, #2 next most relevant, and so on. If something isn’t relevant, leave the box blank. (You may only choose one row per ranking column.) [I’ve heard some food safety experts recommend against washing meat.]' : 'donot_rank_warn_against',\n",
    "                          'If you don’t commonly wash raw meat before cooking, please rank the following reasons, with #1 being the most relevant to you, #2 next most relevant, and so on. If something isn’t relevant, leave the box blank. (You may only choose one row per ranking column.) [I want to preserve the taste, smell, texture or appearance of the meat.]' : 'donot_rank_preserve',\n",
    "                          'If you don’t commonly wash raw meat before cooking, please rank the following reasons, with #1 being the most relevant to you, #2 next most relevant, and so on. If something isn’t relevant, leave the box blank. (You may only choose one row per ranking column.) [It is not a cultural or religious custom or tradition for me.]' : 'donot_rank_cultural',\n",
    "                          'If you don’t commonly wash raw meat before cooking, please rank the following reasons, with #1 being the most relevant to you, #2 next most relevant, and so on. If something isn’t relevant, leave the box blank. (You may only choose one row per ranking column.) [Other]' : 'donot_rank_other',\n",
    "                          'If you said \"other,\" please explain..1' : 'donot_rank_other_comments',\n",
    "                          'If you do commonly wash any raw meat before cooking, please rank the following reasons, with #1 being the most relevant to you, #2 next most relevant, and so on. If something isn’t relevant, leave the box blank. (You may only choose one row per ranking column.) [I’m concerned about the health and safety of the meat.]' : 'do_rank_health',\n",
    "                          'If you do commonly wash any raw meat before cooking, please rank the following reasons, with #1 being the most relevant to you, #2 next most relevant, and so on. If something isn’t relevant, leave the box blank. (You may only choose one row per ranking column.) [I’m acting in accordance with a religious belief or practice.]' : 'do_rank_religious',\n",
    "                          'If you do commonly wash any raw meat before cooking, please rank the following reasons, with #1 being the most relevant to you, #2 next most relevant, and so on. If something isn’t relevant, leave the box blank. (You may only choose one row per ranking column.) [I’m following a non-religious custom or tradition.]' : 'do_rank_nonreligious',\n",
    "                          'If you do commonly wash any raw meat before cooking, please rank the following reasons, with #1 being the most relevant to you, #2 next most relevant, and so on. If something isn’t relevant, leave the box blank. (You may only choose one row per ranking column.) [I’m trying to improve the taste or smell of the meat.]' : 'do_rank_taste',\n",
    "                          'If you do commonly wash any raw meat before cooking, please rank the following reasons, with #1 being the most relevant to you, #2 next most relevant, and so on. If something isn’t relevant, leave the box blank. (You may only choose one row per ranking column.) [I’m trying to improve the texture of the meat.]' : 'do_rank_texture',\n",
    "                          'If you do commonly wash any raw meat before cooking, please rank the following reasons, with #1 being the most relevant to you, #2 next most relevant, and so on. If something isn’t relevant, leave the box blank. (You may only choose one row per ranking column.) [I’m trying to improve the appearance of the meat.]' : 'do_rank_appearance',\n",
    "                          'If you do commonly wash any raw meat before cooking, please rank the following reasons, with #1 being the most relevant to you, #2 next most relevant, and so on. If something isn’t relevant, leave the box blank. (You may only choose one row per ranking column.) [Other]' : 'do_rank_other',\n",
    "                          'If you said \"other,\" please explain..2' : 'do_rank_other_comments',\n",
    "                          'If you do commonly wash any raw meat before cooking, what are you trying to remove? Rank the following concerns in order of their importance to you, with #1 being the most important, #2 the next most important, and so on. If something isn’t a concern to you, leave the box blank. (You may only choose one row per ranking column.) [Pathogens (bacteria, viruses, fungi, etc.)]' : 'do_rank2_pathogens',\n",
    "                          'If you do commonly wash any raw meat before cooking, what are you trying to remove? Rank the following concerns in order of their importance to you, with #1 being the most important, #2 the next most important, and so on. If something isn’t a concern to you, leave the box blank. (You may only choose one row per ranking column.) [Artificial chemicals (preservatives, pesticides, cleaning solutions, etc.)]' : 'do_rank2_chemicals',\n",
    "                          'If you do commonly wash any raw meat before cooking, what are you trying to remove? Rank the following concerns in order of their importance to you, with #1 being the most important, #2 the next most important, and so on. If something isn’t a concern to you, leave the box blank. (You may only choose one row per ranking column.) [Inedible debris (dirt, dust, bone fragments, feathers, etc.)]' : 'do_rank2_debris',\n",
    "                          'If you do commonly wash any raw meat before cooking, what are you trying to remove? Rank the following concerns in order of their importance to you, with #1 being the most important, #2 the next most important, and so on. If something isn’t a concern to you, leave the box blank. (You may only choose one row per ranking column.) [Undesirable flavors or odors]' : 'do_rank2_flavors',\n",
    "                          'If you do commonly wash any raw meat before cooking, what are you trying to remove? Rank the following concerns in order of their importance to you, with #1 being the most important, #2 the next most important, and so on. If something isn’t a concern to you, leave the box blank. (You may only choose one row per ranking column.) [Blood]' : 'do_rank2_blood',\n",
    "                          'If you do commonly wash any raw meat before cooking, what are you trying to remove? Rank the following concerns in order of their importance to you, with #1 being the most important, #2 the next most important, and so on. If something isn’t a concern to you, leave the box blank. (You may only choose one row per ranking column.) [Slime]' : 'do_rank2_slime',\n",
    "                          'If you do commonly wash any raw meat before cooking, what are you trying to remove? Rank the following concerns in order of their importance to you, with #1 being the most important, #2 the next most important, and so on. If something isn’t a concern to you, leave the box blank. (You may only choose one row per ranking column.) [Fat]' : 'do_rank2_fat',\n",
    "                          'If you do commonly wash any raw meat before cooking, what are you trying to remove? Rank the following concerns in order of their importance to you, with #1 being the most important, #2 the next most important, and so on. If something isn’t a concern to you, leave the box blank. (You may only choose one row per ranking column.) [Meat juice (the pink, non-blood liquid that comes out of muscle tissue)]' : 'do_rank2_meat_juice',\n",
    "                          'If you do commonly wash any raw meat before cooking, what are you trying to remove? Rank the following concerns in order of their importance to you, with #1 being the most important, #2 the next most important, and so on. If something isn’t a concern to you, leave the box blank. (You may only choose one row per ranking column.) [Other]' : 'do_rank2_other',\n",
    "                          'If you said \"other,\" please explain..3' : 'do_rank2_other_comments',\n",
    "                          'If you do commonly wash any raw meat before cooking, please rank the methods you use, with #1 being the method you use most often, #2 next most often, and so on. If you don’t use the method at all, leave the box blank. (You may only choose one row per ranking column.) [Rinsing under running water]' : 'do_rank3_running_water',\n",
    "                          'If you do commonly wash any raw meat before cooking, please rank the methods you use, with #1 being the method you use most often, #2 next most often, and so on. If you don’t use the method at all, leave the box blank. (You may only choose one row per ranking column.) [Rinsing in a bowl or basin of plain water]' : 'do_rank3_bowl_water',\n",
    "                          'If you do commonly wash any raw meat before cooking, please rank the methods you use, with #1 being the method you use most often, #2 next most often, and so on. If you don’t use the method at all, leave the box blank. (You may only choose one row per ranking column.) [Rinsing in anything other than plain water (salt brine, vinegar, citrus, etc.)]' : 'do_rank3_bowl_not_water',\n",
    "                          'If you do commonly wash any raw meat before cooking, please rank the methods you use, with #1 being the method you use most often, #2 next most often, and so on. If you don’t use the method at all, leave the box blank. (You may only choose one row per ranking column.) [Soaking awhile in plain water]' : 'do_rank3_soaking_water',\n",
    "                          'If you do commonly wash any raw meat before cooking, please rank the methods you use, with #1 being the method you use most often, #2 next most often, and so on. If you don’t use the method at all, leave the box blank. (You may only choose one row per ranking column.) [Soaking awhile in anything other than plain water (salt brine, vinegar, citrus, etc.)]' : 'do_rank3_soaking_notwater',\n",
    "                          'If you do commonly wash any raw meat before cooking, please rank the methods you use, with #1 being the method you use most often, #2 next most often, and so on. If you don’t use the method at all, leave the box blank. (You may only choose one row per ranking column.) [Other]' : 'do_rank3_other',\n",
    "                          'If you said \"other,\" please explain..4' : 'do_rank3_other_commments',\n",
    "                          'If you commonly rinse or soak meat before cooking, you most-often use:' : 'commonly_rinse_with',\n",
    "                          'If you commonly soak raw meat before cooking, please indicate how long.' : 'soak_time',\n",
    "                          'If you do commonly rinse or soak raw meat in anything other than plain water, which of these things do you use? Check as many as apply.' : 'soak_rinse_in',\n",
    "                          'If you do commonly wash any raw meat before cooking, how do you clean up afterward? Check any that apply to you.' : 'cleanup',\n",
    "                          \"When you eat at someone's house, how important is it to you that they be attentive to food safety in their food preparation?\" : 'visitor_home_safety',\n",
    "                          'When you eat at a commercial eatery, how important is it to you that they be attentive to food safety in their food preparation?': 'commercial_safety',\n",
    "                          'Is there anything else you wish to share about your food preparation practices?' : 'comments_food_prep',\n",
    "                          'Are there comments about consumer food safety education or food guidelines that you wish to share? ' : 'comments_food_safety_edu'\n",
    "                          \n",
    "                                     }, inplace=True)"
   ]
  },
  {
   "cell_type": "code",
   "execution_count": 8,
   "metadata": {
    "scrolled": true,
    "slideshow": {
     "slide_type": "skip"
    }
   },
   "outputs": [
    {
     "name": "stdout",
     "output_type": "stream",
     "text": [
      "<class 'pandas.core.frame.DataFrame'>\n",
      "RangeIndex: 13528 entries, 0 to 13527\n",
      "Data columns (total 68 columns):\n",
      " #   Column                          Non-Null Count  Dtype \n",
      "---  ------                          --------------  ----- \n",
      " 0   timestamp                       13528 non-null  object\n",
      " 1   prepare_meat                    13528 non-null  object\n",
      " 2   age                             13195 non-null  object\n",
      " 3   gender                          13172 non-null  object\n",
      " 4   country_origin                  13195 non-null  object\n",
      " 5   country_residency               13195 non-null  object\n",
      " 6   us_state_residency              6356 non-null   object\n",
      " 7   race                            6356 non-null   object\n",
      " 8   hispanic                        6356 non-null   object\n",
      " 9   times_prepare_meal              13195 non-null  object\n",
      " 10  household_size                  13144 non-null  object\n",
      " 11  importance_food_safety_cooking  13192 non-null  object\n",
      " 12  follow_when_cooking             13189 non-null  object\n",
      " 13  often_wash_hands                13195 non-null  object\n",
      " 14  often_different_plates          13168 non-null  object\n",
      " 15  often_thermometer               13161 non-null  object\n",
      " 16  often_not_wash_utensils         13154 non-null  object\n",
      " 17  often_not_wash_cutting_board    13157 non-null  object\n",
      " 18  often_leave_food_2hrs           13174 non-null  object\n",
      " 19  wash_pork                       11858 non-null  object\n",
      " 20  wash_poultry                    13071 non-null  object\n",
      " 21  wash_beef                       12678 non-null  object\n",
      " 22  wash_lamb_goat                  10014 non-null  object\n",
      " 23  wash_fish                       12271 non-null  object\n",
      " 24  wash_ground_meat                12784 non-null  object\n",
      " 25  wash_other                      3172 non-null   object\n",
      " 26  wash_other_comments             900 non-null    object\n",
      " 27  donot_rank_should               7187 non-null   object\n",
      " 28  donot_rank_clean_enough         10026 non-null  object\n",
      " 29  donot_rank_warn_against         9511 non-null   object\n",
      " 30  donot_rank_preserve             8535 non-null   object\n",
      " 31  donot_rank_cultural             8023 non-null   object\n",
      " 32  donot_rank_other                2418 non-null   object\n",
      " 33  donot_rank_other_comments       2122 non-null   object\n",
      " 34  do_rank_health                  2890 non-null   object\n",
      " 35  do_rank_religious               1429 non-null   object\n",
      " 36  do_rank_nonreligious            1726 non-null   object\n",
      " 37  do_rank_taste                   2166 non-null   object\n",
      " 38  do_rank_texture                 1741 non-null   object\n",
      " 39  do_rank_appearance              1988 non-null   object\n",
      " 40  do_rank_other                   524 non-null    object\n",
      " 41  do_rank_other_comments          503 non-null    object\n",
      " 42  do_rank2_pathogens              2820 non-null   object\n",
      " 43  do_rank2_chemicals              2661 non-null   object\n",
      " 44  do_rank2_debris                 3575 non-null   object\n",
      " 45  do_rank2_flavors                2895 non-null   object\n",
      " 46  do_rank2_blood                  3069 non-null   object\n",
      " 47  do_rank2_slime                  3308 non-null   object\n",
      " 48  do_rank2_fat                    1937 non-null   object\n",
      " 49  do_rank2_meat_juice             2455 non-null   object\n",
      " 50  do_rank2_other                  150 non-null    object\n",
      " 51  do_rank2_other_comments         159 non-null    object\n",
      " 52  do_rank3_running_water          3730 non-null   object\n",
      " 53  do_rank3_bowl_water             2081 non-null   object\n",
      " 54  do_rank3_bowl_not_water         1479 non-null   object\n",
      " 55  do_rank3_soaking_water          1612 non-null   object\n",
      " 56  do_rank3_soaking_notwater       1527 non-null   object\n",
      " 57  do_rank3_other                  191 non-null    object\n",
      " 58  do_rank3_other_commments        148 non-null    object\n",
      " 59  commonly_rinse_with             4632 non-null   object\n",
      " 60  soak_time                       2525 non-null   object\n",
      " 61  soak_rinse_in                   2367 non-null   object\n",
      " 62  cleanup                         4169 non-null   object\n",
      " 63  visitor_home_safety             13195 non-null  object\n",
      " 64  commercial_safety               13195 non-null  object\n",
      " 65  comments_food_prep              2974 non-null   object\n",
      " 66  comments_food_safety_edu        1602 non-null   object\n",
      " 67  Unnamed: 67                     5 non-null      object\n",
      "dtypes: object(68)\n",
      "memory usage: 7.0+ MB\n"
     ]
    }
   ],
   "source": [
    "# confirm changes to column headers\n",
    "df_survey.info()"
   ]
  },
  {
   "cell_type": "code",
   "execution_count": 9,
   "metadata": {
    "slideshow": {
     "slide_type": "skip"
    }
   },
   "outputs": [
    {
     "data": {
      "text/plain": [
       "timestamp                                                             9/28/20 14:23\n",
       "prepare_meat                                                                  Often\n",
       "age                                                                              19\n",
       "gender                                                                         Male\n",
       "country_origin                                                               Canada\n",
       "country_residency                                                            Canada\n",
       "us_state_residency                                                              NaN\n",
       "race                                                                            NaN\n",
       "hispanic                                                                        NaN\n",
       "times_prepare_meal                                                            Often\n",
       "household_size                                                                    2\n",
       "importance_food_safety_cooking                                                    4\n",
       "follow_when_cooking               Wash my hands with soap and water, Wash cuttin...\n",
       "often_wash_hands                                                   Most of the time\n",
       "often_different_plates                                                      Usually\n",
       "often_thermometer                                                           Usually\n",
       "often_not_wash_utensils                                                       Never\n",
       "often_not_wash_cutting_board                                                  Never\n",
       "often_leave_food_2hrs                                                     Sometimes\n",
       "wash_pork                                                                 Dont Wash\n",
       "wash_poultry                                                              Dont Wash\n",
       "wash_beef                                                                 Dont Wash\n",
       "wash_lamb_goat                                                            Dont Wash\n",
       "wash_fish                                                                 Dont Wash\n",
       "wash_ground_meat                                                          Dont Wash\n",
       "wash_other                                                                Dont Wash\n",
       "wash_other_comments                                                             NaN\n",
       "donot_rank_should                                                                 4\n",
       "donot_rank_clean_enough                                                           3\n",
       "donot_rank_warn_against                                                           1\n",
       "donot_rank_preserve                                                               2\n",
       "donot_rank_cultural                                                               5\n",
       "donot_rank_other                                                                  6\n",
       "donot_rank_other_comments                                                       NaN\n",
       "do_rank_health                                                                  NaN\n",
       "do_rank_religious                                                               NaN\n",
       "do_rank_nonreligious                                                            NaN\n",
       "do_rank_taste                                                                   NaN\n",
       "do_rank_texture                                                                 NaN\n",
       "do_rank_appearance                                                              NaN\n",
       "do_rank_other                                                                   NaN\n",
       "do_rank_other_comments                                                          NaN\n",
       "do_rank2_pathogens                                                              NaN\n",
       "do_rank2_chemicals                                                              NaN\n",
       "do_rank2_debris                                                                 NaN\n",
       "do_rank2_flavors                                                                NaN\n",
       "do_rank2_blood                                                                  NaN\n",
       "do_rank2_slime                                                                  NaN\n",
       "do_rank2_fat                                                                    NaN\n",
       "do_rank2_meat_juice                                                             NaN\n",
       "do_rank2_other                                                                  NaN\n",
       "do_rank2_other_comments                                                         NaN\n",
       "do_rank3_running_water                                                          NaN\n",
       "do_rank3_bowl_water                                                             NaN\n",
       "do_rank3_bowl_not_water                                                         NaN\n",
       "do_rank3_soaking_water                                                          NaN\n",
       "do_rank3_soaking_notwater                                                       NaN\n",
       "do_rank3_other                                                                  NaN\n",
       "do_rank3_other_commments                                                        NaN\n",
       "commonly_rinse_with                                                             NaN\n",
       "soak_time                                                                       NaN\n",
       "soak_rinse_in                                                                   NaN\n",
       "cleanup                                                                         NaN\n",
       "visitor_home_safety                                                               4\n",
       "commercial_safety                                                                 5\n",
       "comments_food_prep                                                              NaN\n",
       "comments_food_safety_edu                                                        NaN\n",
       "Unnamed: 67                                                                     NaN\n",
       "Name: 99, dtype: object"
      ]
     },
     "metadata": {},
     "output_type": "display_data"
    }
   ],
   "source": [
    "# display a full survey as sample to explore\n",
    "# provide perspective on the possible types of responses for each question in the survey\n",
    "pd.set_option(\"display.max_rows\", None, \"display.max_columns\",None)\n",
    "display(df_survey.iloc[99])"
   ]
  },
  {
   "cell_type": "markdown",
   "metadata": {
    "slideshow": {
     "slide_type": "skip"
    }
   },
   "source": [
    "<div class=\"alert alert-block alert-warning\">\n",
    "\n",
    "<b>Tidiness Issue #2:</b> Row 0 of data contains attempt of shorter column titles in the original dataset. \n",
    "\n",
    "SOLUTION: Since the columns have been renamed and shorten. Row 0 can be removed/dropped.  \n",
    "    </div>"
   ]
  },
  {
   "cell_type": "code",
   "execution_count": 10,
   "metadata": {
    "scrolled": true,
    "slideshow": {
     "slide_type": "skip"
    }
   },
   "outputs": [
    {
     "data": {
      "text/html": [
       "<div>\n",
       "<style scoped>\n",
       "    .dataframe tbody tr th:only-of-type {\n",
       "        vertical-align: middle;\n",
       "    }\n",
       "\n",
       "    .dataframe tbody tr th {\n",
       "        vertical-align: top;\n",
       "    }\n",
       "\n",
       "    .dataframe thead th {\n",
       "        text-align: right;\n",
       "    }\n",
       "</style>\n",
       "<table border=\"1\" class=\"dataframe\">\n",
       "  <thead>\n",
       "    <tr style=\"text-align: right;\">\n",
       "      <th></th>\n",
       "      <th>timestamp</th>\n",
       "      <th>prepare_meat</th>\n",
       "      <th>age</th>\n",
       "      <th>gender</th>\n",
       "      <th>country_origin</th>\n",
       "      <th>country_residency</th>\n",
       "      <th>us_state_residency</th>\n",
       "      <th>race</th>\n",
       "      <th>hispanic</th>\n",
       "      <th>times_prepare_meal</th>\n",
       "      <th>household_size</th>\n",
       "      <th>importance_food_safety_cooking</th>\n",
       "      <th>follow_when_cooking</th>\n",
       "      <th>often_wash_hands</th>\n",
       "      <th>often_different_plates</th>\n",
       "      <th>often_thermometer</th>\n",
       "      <th>often_not_wash_utensils</th>\n",
       "      <th>often_not_wash_cutting_board</th>\n",
       "      <th>often_leave_food_2hrs</th>\n",
       "      <th>wash_pork</th>\n",
       "      <th>wash_poultry</th>\n",
       "      <th>wash_beef</th>\n",
       "      <th>wash_lamb_goat</th>\n",
       "      <th>wash_fish</th>\n",
       "      <th>wash_ground_meat</th>\n",
       "      <th>wash_other</th>\n",
       "      <th>wash_other_comments</th>\n",
       "      <th>donot_rank_should</th>\n",
       "      <th>donot_rank_clean_enough</th>\n",
       "      <th>donot_rank_warn_against</th>\n",
       "      <th>donot_rank_preserve</th>\n",
       "      <th>donot_rank_cultural</th>\n",
       "      <th>donot_rank_other</th>\n",
       "      <th>donot_rank_other_comments</th>\n",
       "      <th>do_rank_health</th>\n",
       "      <th>do_rank_religious</th>\n",
       "      <th>do_rank_nonreligious</th>\n",
       "      <th>do_rank_taste</th>\n",
       "      <th>do_rank_texture</th>\n",
       "      <th>do_rank_appearance</th>\n",
       "      <th>do_rank_other</th>\n",
       "      <th>do_rank_other_comments</th>\n",
       "      <th>do_rank2_pathogens</th>\n",
       "      <th>do_rank2_chemicals</th>\n",
       "      <th>do_rank2_debris</th>\n",
       "      <th>do_rank2_flavors</th>\n",
       "      <th>do_rank2_blood</th>\n",
       "      <th>do_rank2_slime</th>\n",
       "      <th>do_rank2_fat</th>\n",
       "      <th>do_rank2_meat_juice</th>\n",
       "      <th>do_rank2_other</th>\n",
       "      <th>do_rank2_other_comments</th>\n",
       "      <th>do_rank3_running_water</th>\n",
       "      <th>do_rank3_bowl_water</th>\n",
       "      <th>do_rank3_bowl_not_water</th>\n",
       "      <th>do_rank3_soaking_water</th>\n",
       "      <th>do_rank3_soaking_notwater</th>\n",
       "      <th>do_rank3_other</th>\n",
       "      <th>do_rank3_other_commments</th>\n",
       "      <th>commonly_rinse_with</th>\n",
       "      <th>soak_time</th>\n",
       "      <th>soak_rinse_in</th>\n",
       "      <th>cleanup</th>\n",
       "      <th>visitor_home_safety</th>\n",
       "      <th>commercial_safety</th>\n",
       "      <th>comments_food_prep</th>\n",
       "      <th>comments_food_safety_edu</th>\n",
       "      <th>Unnamed: 67</th>\n",
       "    </tr>\n",
       "  </thead>\n",
       "  <tbody>\n",
       "    <tr>\n",
       "      <th>0</th>\n",
       "      <td>9/27/20 21:15</td>\n",
       "      <td>Often</td>\n",
       "      <td>22</td>\n",
       "      <td>Male</td>\n",
       "      <td>Anguilla</td>\n",
       "      <td>United States of America</td>\n",
       "      <td>Alaska</td>\n",
       "      <td>White</td>\n",
       "      <td>No</td>\n",
       "      <td>Often</td>\n",
       "      <td>12</td>\n",
       "      <td>3</td>\n",
       "      <td>Wash my hands with soap and water, Separate ra...</td>\n",
       "      <td>All of the time (that is without fail)</td>\n",
       "      <td>Always</td>\n",
       "      <td>Usually</td>\n",
       "      <td>Always</td>\n",
       "      <td>Always</td>\n",
       "      <td>Always</td>\n",
       "      <td>Wash</td>\n",
       "      <td>Wash</td>\n",
       "      <td>Wash</td>\n",
       "      <td>Wash</td>\n",
       "      <td>Wash</td>\n",
       "      <td>Wash</td>\n",
       "      <td>Wash</td>\n",
       "      <td>NaN</td>\n",
       "      <td>1</td>\n",
       "      <td>2</td>\n",
       "      <td>3</td>\n",
       "      <td>4</td>\n",
       "      <td>5</td>\n",
       "      <td>6</td>\n",
       "      <td>NaN</td>\n",
       "      <td>1</td>\n",
       "      <td>2</td>\n",
       "      <td>3</td>\n",
       "      <td>NaN</td>\n",
       "      <td>NaN</td>\n",
       "      <td>NaN</td>\n",
       "      <td>NaN</td>\n",
       "      <td>NaN</td>\n",
       "      <td>Very Important</td>\n",
       "      <td>Important</td>\n",
       "      <td>Very Important</td>\n",
       "      <td>Very Important</td>\n",
       "      <td>NaN</td>\n",
       "      <td>NaN</td>\n",
       "      <td>Very Important</td>\n",
       "      <td>Very Important</td>\n",
       "      <td>NaN</td>\n",
       "      <td>NaN</td>\n",
       "      <td>1</td>\n",
       "      <td>2</td>\n",
       "      <td>3</td>\n",
       "      <td>4</td>\n",
       "      <td>6</td>\n",
       "      <td>5</td>\n",
       "      <td>NaN</td>\n",
       "      <td>Hot liquid</td>\n",
       "      <td>1-6 hours</td>\n",
       "      <td>Water (in addition to other things), Salt, Cit...</td>\n",
       "      <td>By cleaning the kitchen sink, By cleaning coun...</td>\n",
       "      <td>1</td>\n",
       "      <td>2</td>\n",
       "      <td>test</td>\n",
       "      <td>test</td>\n",
       "      <td>NaN</td>\n",
       "    </tr>\n",
       "    <tr>\n",
       "      <th>1</th>\n",
       "      <td>9/27/20 21:18</td>\n",
       "      <td>Sometimes</td>\n",
       "      <td>49</td>\n",
       "      <td>Non-binary</td>\n",
       "      <td>United States of America</td>\n",
       "      <td>United States of America</td>\n",
       "      <td>Florida</td>\n",
       "      <td>Asian</td>\n",
       "      <td>Yes</td>\n",
       "      <td>Often</td>\n",
       "      <td>7</td>\n",
       "      <td>2</td>\n",
       "      <td>Wash my hands with soap and water, Wash cuttin...</td>\n",
       "      <td>Never</td>\n",
       "      <td>Always</td>\n",
       "      <td>Seldom</td>\n",
       "      <td>Seldom</td>\n",
       "      <td>Seldom</td>\n",
       "      <td>About Half the time</td>\n",
       "      <td>Dont Wash</td>\n",
       "      <td>Dont Wash</td>\n",
       "      <td>Dont Wash</td>\n",
       "      <td>Dont Wash</td>\n",
       "      <td>Dont Wash</td>\n",
       "      <td>Dont Wash</td>\n",
       "      <td>NaN</td>\n",
       "      <td>NaN</td>\n",
       "      <td>NaN</td>\n",
       "      <td>1</td>\n",
       "      <td>2</td>\n",
       "      <td>NaN</td>\n",
       "      <td>NaN</td>\n",
       "      <td>NaN</td>\n",
       "      <td>NaN</td>\n",
       "      <td>NaN</td>\n",
       "      <td>NaN</td>\n",
       "      <td>NaN</td>\n",
       "      <td>NaN</td>\n",
       "      <td>NaN</td>\n",
       "      <td>NaN</td>\n",
       "      <td>NaN</td>\n",
       "      <td>NaN</td>\n",
       "      <td>NaN</td>\n",
       "      <td>NaN</td>\n",
       "      <td>NaN</td>\n",
       "      <td>NaN</td>\n",
       "      <td>NaN</td>\n",
       "      <td>NaN</td>\n",
       "      <td>NaN</td>\n",
       "      <td>NaN</td>\n",
       "      <td>NaN</td>\n",
       "      <td>NaN</td>\n",
       "      <td>NaN</td>\n",
       "      <td>NaN</td>\n",
       "      <td>NaN</td>\n",
       "      <td>NaN</td>\n",
       "      <td>NaN</td>\n",
       "      <td>NaN</td>\n",
       "      <td>NaN</td>\n",
       "      <td>Tepid or warm liquid</td>\n",
       "      <td>30-59 minutes</td>\n",
       "      <td>Vinegar</td>\n",
       "      <td>By cleaning the kitchen sink, By cleaning bowl...</td>\n",
       "      <td>5</td>\n",
       "      <td>5</td>\n",
       "      <td>NaN</td>\n",
       "      <td>NaN</td>\n",
       "      <td>NaN</td>\n",
       "    </tr>\n",
       "    <tr>\n",
       "      <th>2</th>\n",
       "      <td>9/28/20 14:11</td>\n",
       "      <td>Sometimes</td>\n",
       "      <td>32</td>\n",
       "      <td>Male</td>\n",
       "      <td>United States of America</td>\n",
       "      <td>United States of America</td>\n",
       "      <td>Virginia</td>\n",
       "      <td>White</td>\n",
       "      <td>No</td>\n",
       "      <td>Sometimes</td>\n",
       "      <td>1</td>\n",
       "      <td>4</td>\n",
       "      <td>Wash my hands with soap and water, Wash cuttin...</td>\n",
       "      <td>Some of the time</td>\n",
       "      <td>Usually</td>\n",
       "      <td>Usually</td>\n",
       "      <td>Usually</td>\n",
       "      <td>Seldom</td>\n",
       "      <td>About Half the time</td>\n",
       "      <td>Dont Wash</td>\n",
       "      <td>Dont Wash</td>\n",
       "      <td>Dont Wash</td>\n",
       "      <td>Dont Wash</td>\n",
       "      <td>Dont Wash</td>\n",
       "      <td>Dont Wash</td>\n",
       "      <td>Dont Wash</td>\n",
       "      <td>NaN</td>\n",
       "      <td>NaN</td>\n",
       "      <td>NaN</td>\n",
       "      <td>NaN</td>\n",
       "      <td>1</td>\n",
       "      <td>6</td>\n",
       "      <td>NaN</td>\n",
       "      <td>NaN</td>\n",
       "      <td>NaN</td>\n",
       "      <td>NaN</td>\n",
       "      <td>NaN</td>\n",
       "      <td>NaN</td>\n",
       "      <td>NaN</td>\n",
       "      <td>NaN</td>\n",
       "      <td>NaN</td>\n",
       "      <td>NaN</td>\n",
       "      <td>NaN</td>\n",
       "      <td>NaN</td>\n",
       "      <td>NaN</td>\n",
       "      <td>NaN</td>\n",
       "      <td>NaN</td>\n",
       "      <td>NaN</td>\n",
       "      <td>NaN</td>\n",
       "      <td>NaN</td>\n",
       "      <td>NaN</td>\n",
       "      <td>NaN</td>\n",
       "      <td>NaN</td>\n",
       "      <td>NaN</td>\n",
       "      <td>NaN</td>\n",
       "      <td>NaN</td>\n",
       "      <td>NaN</td>\n",
       "      <td>NaN</td>\n",
       "      <td>NaN</td>\n",
       "      <td>NaN</td>\n",
       "      <td>NaN</td>\n",
       "      <td>NaN</td>\n",
       "      <td>NaN</td>\n",
       "      <td>4</td>\n",
       "      <td>5</td>\n",
       "      <td>NaN</td>\n",
       "      <td>NaN</td>\n",
       "      <td>NaN</td>\n",
       "    </tr>\n",
       "  </tbody>\n",
       "</table>\n",
       "</div>"
      ],
      "text/plain": [
       "       timestamp prepare_meat age      gender            country_origin  \\\n",
       "0  9/27/20 21:15        Often  22        Male                  Anguilla   \n",
       "1  9/27/20 21:18    Sometimes  49  Non-binary  United States of America   \n",
       "2  9/28/20 14:11    Sometimes  32        Male  United States of America   \n",
       "\n",
       "          country_residency us_state_residency   race hispanic  \\\n",
       "0  United States of America             Alaska  White       No   \n",
       "1  United States of America            Florida  Asian      Yes   \n",
       "2  United States of America           Virginia  White       No   \n",
       "\n",
       "  times_prepare_meal household_size importance_food_safety_cooking  \\\n",
       "0              Often             12                              3   \n",
       "1              Often              7                              2   \n",
       "2          Sometimes              1                              4   \n",
       "\n",
       "                                 follow_when_cooking  \\\n",
       "0  Wash my hands with soap and water, Separate ra...   \n",
       "1  Wash my hands with soap and water, Wash cuttin...   \n",
       "2  Wash my hands with soap and water, Wash cuttin...   \n",
       "\n",
       "                         often_wash_hands often_different_plates  \\\n",
       "0  All of the time (that is without fail)                 Always   \n",
       "1                                   Never                 Always   \n",
       "2                        Some of the time                Usually   \n",
       "\n",
       "  often_thermometer often_not_wash_utensils often_not_wash_cutting_board  \\\n",
       "0           Usually                  Always                       Always   \n",
       "1            Seldom                  Seldom                       Seldom   \n",
       "2           Usually                 Usually                       Seldom   \n",
       "\n",
       "  often_leave_food_2hrs  wash_pork wash_poultry  wash_beef wash_lamb_goat  \\\n",
       "0                Always       Wash         Wash       Wash           Wash   \n",
       "1   About Half the time  Dont Wash    Dont Wash  Dont Wash      Dont Wash   \n",
       "2   About Half the time  Dont Wash    Dont Wash  Dont Wash      Dont Wash   \n",
       "\n",
       "   wash_fish wash_ground_meat wash_other wash_other_comments  \\\n",
       "0       Wash             Wash       Wash                 NaN   \n",
       "1  Dont Wash        Dont Wash        NaN                 NaN   \n",
       "2  Dont Wash        Dont Wash  Dont Wash                 NaN   \n",
       "\n",
       "  donot_rank_should donot_rank_clean_enough donot_rank_warn_against  \\\n",
       "0                 1                       2                       3   \n",
       "1               NaN                       1                       2   \n",
       "2               NaN                     NaN                     NaN   \n",
       "\n",
       "  donot_rank_preserve donot_rank_cultural donot_rank_other  \\\n",
       "0                   4                   5                6   \n",
       "1                 NaN                 NaN              NaN   \n",
       "2                   1                   6              NaN   \n",
       "\n",
       "  donot_rank_other_comments do_rank_health do_rank_religious  \\\n",
       "0                       NaN              1                 2   \n",
       "1                       NaN            NaN               NaN   \n",
       "2                       NaN            NaN               NaN   \n",
       "\n",
       "  do_rank_nonreligious do_rank_taste do_rank_texture do_rank_appearance  \\\n",
       "0                    3           NaN             NaN                NaN   \n",
       "1                  NaN           NaN             NaN                NaN   \n",
       "2                  NaN           NaN             NaN                NaN   \n",
       "\n",
       "  do_rank_other do_rank_other_comments do_rank2_pathogens do_rank2_chemicals  \\\n",
       "0           NaN                    NaN     Very Important          Important   \n",
       "1           NaN                    NaN                NaN                NaN   \n",
       "2           NaN                    NaN                NaN                NaN   \n",
       "\n",
       "  do_rank2_debris do_rank2_flavors do_rank2_blood do_rank2_slime  \\\n",
       "0  Very Important   Very Important            NaN            NaN   \n",
       "1             NaN              NaN            NaN            NaN   \n",
       "2             NaN              NaN            NaN            NaN   \n",
       "\n",
       "     do_rank2_fat do_rank2_meat_juice do_rank2_other do_rank2_other_comments  \\\n",
       "0  Very Important      Very Important            NaN                     NaN   \n",
       "1             NaN                 NaN            NaN                     NaN   \n",
       "2             NaN                 NaN            NaN                     NaN   \n",
       "\n",
       "  do_rank3_running_water do_rank3_bowl_water do_rank3_bowl_not_water  \\\n",
       "0                      1                   2                       3   \n",
       "1                    NaN                 NaN                     NaN   \n",
       "2                    NaN                 NaN                     NaN   \n",
       "\n",
       "  do_rank3_soaking_water do_rank3_soaking_notwater do_rank3_other  \\\n",
       "0                      4                         6              5   \n",
       "1                    NaN                       NaN            NaN   \n",
       "2                    NaN                       NaN            NaN   \n",
       "\n",
       "  do_rank3_other_commments   commonly_rinse_with      soak_time  \\\n",
       "0                      NaN            Hot liquid      1-6 hours   \n",
       "1                      NaN  Tepid or warm liquid  30-59 minutes   \n",
       "2                      NaN                   NaN            NaN   \n",
       "\n",
       "                                       soak_rinse_in  \\\n",
       "0  Water (in addition to other things), Salt, Cit...   \n",
       "1                                            Vinegar   \n",
       "2                                                NaN   \n",
       "\n",
       "                                             cleanup visitor_home_safety  \\\n",
       "0  By cleaning the kitchen sink, By cleaning coun...                   1   \n",
       "1  By cleaning the kitchen sink, By cleaning bowl...                   5   \n",
       "2                                                NaN                   4   \n",
       "\n",
       "  commercial_safety comments_food_prep comments_food_safety_edu Unnamed: 67  \n",
       "0                 2               test                     test         NaN  \n",
       "1                 5                NaN                      NaN         NaN  \n",
       "2                 5                NaN                      NaN         NaN  "
      ]
     },
     "execution_count": 10,
     "metadata": {},
     "output_type": "execute_result"
    }
   ],
   "source": [
    "# remove row with alternative, short titles\n",
    "# reset index numbering\n",
    "df_survey.drop(df_survey.index[0], inplace=True)\n",
    "df_survey = df_survey.reset_index(drop=True)\n",
    "\n",
    "# verify changes\n",
    "df_survey.head(3)"
   ]
  },
  {
   "cell_type": "markdown",
   "metadata": {
    "slideshow": {
     "slide_type": "skip"
    }
   },
   "source": [
    "<div class=\"alert alert-block alert-warning\">\n",
    "\n",
    "<b>Quality Issue #1:</b> Datatypes for timestamp is in object.\n",
    "\n",
    "SOLUTION: `timestamp` dtype converted to datetime. \n",
    "</div>"
   ]
  },
  {
   "cell_type": "code",
   "execution_count": 11,
   "metadata": {
    "slideshow": {
     "slide_type": "skip"
    }
   },
   "outputs": [
    {
     "data": {
      "text/plain": [
       "dtype('<M8[ns]')"
      ]
     },
     "execution_count": 11,
     "metadata": {},
     "output_type": "execute_result"
    }
   ],
   "source": [
    "# change datatype of 'timestamp' to DateTime\n",
    "df_survey['timestamp'] = pd.to_datetime(df_survey['timestamp'])\n",
    "\n",
    "# confirm changes\n",
    "df_survey['timestamp'].dtype"
   ]
  },
  {
   "cell_type": "markdown",
   "metadata": {
    "slideshow": {
     "slide_type": "skip"
    }
   },
   "source": [
    "<div class=\"alert alert-block alert-warning\">\n",
    "\n",
    "<b>Quality Issue #2:</b> Datatype for `household_size` is in object and may contain fractional values.\n",
    "\n",
    "SOLUTION: `household_size` dtype converted to int. \n",
    "</div>"
   ]
  },
  {
   "cell_type": "code",
   "execution_count": 12,
   "metadata": {
    "slideshow": {
     "slide_type": "skip"
    }
   },
   "outputs": [
    {
     "data": {
      "text/plain": [
       "array(['12', '7', '1', '4', '2', nan, '3', '6', '5', '8', '10', '9',\n",
       "       '2.5', '69', '0', '11', '15', '20', '27', '16', '380', '22', '3.5',\n",
       "       '2.75', '1.5', '1.11E+15', '14', '33', 4.0, 3.0, 1.0, 2.0, 5.0,\n",
       "       7.0, 6.0, 8.0, 16.0, 10.0, 9.0, 83.0, 12.0, 68.9, 11.0, 15.0, 1.5],\n",
       "      dtype=object)"
      ]
     },
     "execution_count": 12,
     "metadata": {},
     "output_type": "execute_result"
    }
   ],
   "source": [
    "# unique values for 'household_size'\n",
    "df_survey['household_size'].unique()"
   ]
  },
  {
   "cell_type": "code",
   "execution_count": 13,
   "metadata": {
    "slideshow": {
     "slide_type": "skip"
    }
   },
   "outputs": [
    {
     "data": {
      "text/plain": [
       "array([ 12.  ,   7.  ,   1.  ,   4.  ,   2.  ,    nan,   3.  ,   6.  ,\n",
       "         5.  ,   8.  ,  10.  ,   9.  ,   2.5 ,  69.  ,   0.  ,  11.  ,\n",
       "        15.  ,  20.  ,  27.  ,  16.  , 380.  ,  22.  ,   3.5 ,   2.75,\n",
       "         1.5 ,  14.  ,  33.  ,  83.  ,  68.9 ])"
      ]
     },
     "execution_count": 13,
     "metadata": {},
     "output_type": "execute_result"
    }
   ],
   "source": [
    "# change '1.11E+15' to NaN\n",
    "df_survey.loc[df_survey['household_size'] == \"1.11E+15\", 'household_size'] = np.nan\n",
    "\n",
    "# convert dtype to float\n",
    "df_survey['household_size'] = df_survey['household_size'].astype(float)\n",
    "df_survey['household_size'].unique()"
   ]
  },
  {
   "cell_type": "code",
   "execution_count": 14,
   "metadata": {
    "slideshow": {
     "slide_type": "skip"
    }
   },
   "outputs": [
    {
     "data": {
      "text/plain": [
       "dtype('int64')"
      ]
     },
     "execution_count": 14,
     "metadata": {},
     "output_type": "execute_result"
    }
   ],
   "source": [
    "# change datatype of 'household_size' to int\n",
    "# NaN entries for age are converted to <NA>\n",
    "df_survey['household_size'] = pd.array(df_survey['household_size'].values).astype(int)\n",
    "\n",
    "# confirm change\n",
    "df_survey['household_size'].dtype"
   ]
  },
  {
   "cell_type": "markdown",
   "metadata": {
    "slideshow": {
     "slide_type": "skip"
    }
   },
   "source": [
    "<div class=\"alert alert-block alert-warning\">\n",
    "\n",
    "<b>Quality Issue #3:</b> Datatype for `age` is in object and may contain fractional values.\n",
    "\n",
    "SOLUTION: `age` dtype converted to int. \n",
    "</div>"
   ]
  },
  {
   "cell_type": "code",
   "execution_count": 15,
   "metadata": {
    "slideshow": {
     "slide_type": "skip"
    }
   },
   "outputs": [
    {
     "data": {
      "text/plain": [
       "array(['22', '49', '32', '30', '20', '26', '24', '16', nan, '18', '25',\n",
       "       '35', '23', '19', '31', '29', '28', '21', '27', '41', '36', '50',\n",
       "       '37', '39', '14', '42', '69', '15', '52', '46', '67', '17', '33',\n",
       "       '34', '38', '43', '56', '13', '64', '12', '63', '51', '11', '45',\n",
       "       '40', '55', '53', '62', '47', '68', '44', '66', '48', '60', '59',\n",
       "       '61', '54', '57', '58', '72', '70', '568', '71', '73', '77', '1',\n",
       "       '89', '65', 35.0, 33.0, 40.0, 41.0, 43.0, 22.0, 17.0, 34.0, 29.0,\n",
       "       24.0, 23.0, 47.0, 26.0, 31.0, 20.0, 27.0, 57.0, 38.0, 28.0, 32.0,\n",
       "       19.0, 37.0, 61.0, 15.0, 59.0, 16.0, 25.0, 18.0, 21.0, 44.0, 39.0,\n",
       "       14.0, 42.0, 36.0, 65.0, 30.0, 74.0, 54.0, 50.0, 52.0, 56.0, 13.0,\n",
       "       46.0, 53.0, 6.760000000000001e+47, 58.0, 67.0, 55.0, 45.0, 63.0,\n",
       "       222.0, 71.0, 51.0, 49.0, 69.0, 60.0, 12.0, 11.0, 62.0, 78.0, 68.0,\n",
       "       70.0, 79.0, 48.0, 77.0, 66.0, 10.0, 73.0, 64.0, 999.0, 72.0,\n",
       "       1111111111.0], dtype=object)"
      ]
     },
     "execution_count": 15,
     "metadata": {},
     "output_type": "execute_result"
    }
   ],
   "source": [
    "df_survey['age'].unique()"
   ]
  },
  {
   "cell_type": "code",
   "execution_count": 16,
   "metadata": {
    "slideshow": {
     "slide_type": "skip"
    }
   },
   "outputs": [
    {
     "data": {
      "text/plain": [
       "array([ 22.,  49.,  32.,  30.,  20.,  26.,  24.,  16.,  nan,  18.,  25.,\n",
       "        35.,  23.,  19.,  31.,  29.,  28.,  21.,  27.,  41.,  36.,  50.,\n",
       "        37.,  39.,  14.,  42.,  69.,  15.,  52.,  46.,  67.,  17.,  33.,\n",
       "        34.,  38.,  43.,  56.,  13.,  64.,  12.,  63.,  51.,  11.,  45.,\n",
       "        40.,  55.,  53.,  62.,  47.,  68.,  44.,  66.,  48.,  60.,  59.,\n",
       "        61.,  54.,  57.,  58.,  72.,  70., 568.,  71.,  73.,  77.,   1.,\n",
       "        89.,  65.,  74., 222.,  78.,  79.,  10., 999.])"
      ]
     },
     "execution_count": 16,
     "metadata": {},
     "output_type": "execute_result"
    }
   ],
   "source": [
    "# change extreme values to NaN \n",
    "df_survey.loc[df_survey['age'] == 6.760000000000001e+47, 'age'] = np.nan\n",
    "df_survey.loc[df_survey['age'] == 1111111111.0, 'age'] = np.nan\n",
    "\n",
    "# convert dtype to float\n",
    "df_survey['age'] = df_survey['age'].astype(float)\n",
    "df_survey['age'].unique()"
   ]
  },
  {
   "cell_type": "code",
   "execution_count": 17,
   "metadata": {
    "slideshow": {
     "slide_type": "skip"
    }
   },
   "outputs": [
    {
     "data": {
      "text/plain": [
       "dtype('int64')"
      ]
     },
     "execution_count": 17,
     "metadata": {},
     "output_type": "execute_result"
    }
   ],
   "source": [
    "# change datatype of 'age' to int\n",
    "# NaN entries for age are converted to <NA>\n",
    "df_survey['age'] = pd.array(df_survey['age'].values).astype(int)\n",
    "\n",
    "# confirm type is now Int64\n",
    "df_survey['age'].dtype"
   ]
  },
  {
   "cell_type": "code",
   "execution_count": 18,
   "metadata": {
    "slideshow": {
     "slide_type": "skip"
    }
   },
   "outputs": [
    {
     "name": "stdout",
     "output_type": "stream",
     "text": [
      "<class 'pandas.core.frame.DataFrame'>\n",
      "RangeIndex: 13527 entries, 0 to 13526\n",
      "Data columns (total 68 columns):\n",
      " #   Column                          Non-Null Count  Dtype         \n",
      "---  ------                          --------------  -----         \n",
      " 0   timestamp                       13527 non-null  datetime64[ns]\n",
      " 1   prepare_meat                    13527 non-null  object        \n",
      " 2   age                             13527 non-null  int64         \n",
      " 3   gender                          13171 non-null  object        \n",
      " 4   country_origin                  13194 non-null  object        \n",
      " 5   country_residency               13194 non-null  object        \n",
      " 6   us_state_residency              6355 non-null   object        \n",
      " 7   race                            6355 non-null   object        \n",
      " 8   hispanic                        6355 non-null   object        \n",
      " 9   times_prepare_meal              13194 non-null  object        \n",
      " 10  household_size                  13527 non-null  int64         \n",
      " 11  importance_food_safety_cooking  13191 non-null  object        \n",
      " 12  follow_when_cooking             13188 non-null  object        \n",
      " 13  often_wash_hands                13194 non-null  object        \n",
      " 14  often_different_plates          13167 non-null  object        \n",
      " 15  often_thermometer               13160 non-null  object        \n",
      " 16  often_not_wash_utensils         13153 non-null  object        \n",
      " 17  often_not_wash_cutting_board    13156 non-null  object        \n",
      " 18  often_leave_food_2hrs           13173 non-null  object        \n",
      " 19  wash_pork                       11857 non-null  object        \n",
      " 20  wash_poultry                    13070 non-null  object        \n",
      " 21  wash_beef                       12677 non-null  object        \n",
      " 22  wash_lamb_goat                  10013 non-null  object        \n",
      " 23  wash_fish                       12270 non-null  object        \n",
      " 24  wash_ground_meat                12783 non-null  object        \n",
      " 25  wash_other                      3171 non-null   object        \n",
      " 26  wash_other_comments             899 non-null    object        \n",
      " 27  donot_rank_should               7186 non-null   object        \n",
      " 28  donot_rank_clean_enough         10025 non-null  object        \n",
      " 29  donot_rank_warn_against         9510 non-null   object        \n",
      " 30  donot_rank_preserve             8534 non-null   object        \n",
      " 31  donot_rank_cultural             8022 non-null   object        \n",
      " 32  donot_rank_other                2417 non-null   object        \n",
      " 33  donot_rank_other_comments       2121 non-null   object        \n",
      " 34  do_rank_health                  2889 non-null   object        \n",
      " 35  do_rank_religious               1428 non-null   object        \n",
      " 36  do_rank_nonreligious            1725 non-null   object        \n",
      " 37  do_rank_taste                   2165 non-null   object        \n",
      " 38  do_rank_texture                 1740 non-null   object        \n",
      " 39  do_rank_appearance              1987 non-null   object        \n",
      " 40  do_rank_other                   523 non-null    object        \n",
      " 41  do_rank_other_comments          502 non-null    object        \n",
      " 42  do_rank2_pathogens              2819 non-null   object        \n",
      " 43  do_rank2_chemicals              2660 non-null   object        \n",
      " 44  do_rank2_debris                 3574 non-null   object        \n",
      " 45  do_rank2_flavors                2894 non-null   object        \n",
      " 46  do_rank2_blood                  3068 non-null   object        \n",
      " 47  do_rank2_slime                  3307 non-null   object        \n",
      " 48  do_rank2_fat                    1936 non-null   object        \n",
      " 49  do_rank2_meat_juice             2454 non-null   object        \n",
      " 50  do_rank2_other                  149 non-null    object        \n",
      " 51  do_rank2_other_comments         158 non-null    object        \n",
      " 52  do_rank3_running_water          3729 non-null   object        \n",
      " 53  do_rank3_bowl_water             2080 non-null   object        \n",
      " 54  do_rank3_bowl_not_water         1478 non-null   object        \n",
      " 55  do_rank3_soaking_water          1611 non-null   object        \n",
      " 56  do_rank3_soaking_notwater       1526 non-null   object        \n",
      " 57  do_rank3_other                  190 non-null    object        \n",
      " 58  do_rank3_other_commments        147 non-null    object        \n",
      " 59  commonly_rinse_with             4631 non-null   object        \n",
      " 60  soak_time                       2524 non-null   object        \n",
      " 61  soak_rinse_in                   2366 non-null   object        \n",
      " 62  cleanup                         4168 non-null   object        \n",
      " 63  visitor_home_safety             13194 non-null  object        \n",
      " 64  commercial_safety               13194 non-null  object        \n",
      " 65  comments_food_prep              2973 non-null   object        \n",
      " 66  comments_food_safety_edu        1601 non-null   object        \n",
      " 67  Unnamed: 67                     5 non-null      object        \n",
      "dtypes: datetime64[ns](1), int64(2), object(65)\n",
      "memory usage: 7.0+ MB\n"
     ]
    }
   ],
   "source": [
    "# confirm datatype\n",
    "df_survey.info()"
   ]
  },
  {
   "cell_type": "markdown",
   "metadata": {
    "slideshow": {
     "slide_type": "skip"
    }
   },
   "source": [
    "<div class=\"alert alert-block alert-warning\">\n",
    "\n",
    "<b>Tidiness Issue #4:</b> Age contains unrealistic entries. \n",
    "\n",
    "SOLUTION: The 333 entries with 'age' listed as zero is most likely due to replacing the NaN to zeros. The entries with ages between 13 and 99 will continue in the analysis. For those enteries that do not meet this criteria, they will be dropped from the dataframe.  \n",
    "    </div>"
   ]
  },
  {
   "cell_type": "code",
   "execution_count": 19,
   "metadata": {
    "slideshow": {
     "slide_type": "skip"
    }
   },
   "outputs": [
    {
     "data": {
      "text/plain": [
       " 23                     912\n",
       " 22                     874\n",
       " 24                     855\n",
       " 21                     815\n",
       " 25                     797\n",
       " 20                     795\n",
       " 26                     667\n",
       " 27                     625\n",
       " 19                     606\n",
       " 18                     573\n",
       " 28                     548\n",
       " 29                     506\n",
       " 30                     459\n",
       " 31                     373\n",
       " 32                     370\n",
       " 17                     359\n",
       "-9223372036854775808    335\n",
       " 16                     308\n",
       " 33                     264\n",
       " 34                     251\n",
       " 35                     242\n",
       " 15                     187\n",
       " 37                     183\n",
       " 36                     181\n",
       " 38                     150\n",
       " 39                     126\n",
       " 40                     125\n",
       " 14                     105\n",
       " 41                      71\n",
       " 42                      70\n",
       " 43                      61\n",
       " 45                      60\n",
       " 50                      60\n",
       " 44                      59\n",
       " 13                      56\n",
       " 46                      49\n",
       " 47                      41\n",
       " 52                      38\n",
       " 49                      35\n",
       " 51                      31\n",
       " 55                      26\n",
       " 48                      26\n",
       " 53                      20\n",
       " 54                      20\n",
       " 57                      19\n",
       " 60                      19\n",
       " 59                      19\n",
       " 56                      19\n",
       " 58                      13\n",
       " 12                      12\n",
       " 62                      12\n",
       " 61                      11\n",
       " 68                      11\n",
       " 66                      10\n",
       " 64                       8\n",
       " 70                       8\n",
       " 63                       8\n",
       " 67                       7\n",
       " 72                       5\n",
       " 69                       5\n",
       " 65                       4\n",
       " 11                       4\n",
       " 71                       4\n",
       " 73                       3\n",
       " 77                       3\n",
       " 89                       1\n",
       " 10                       1\n",
       " 74                       1\n",
       " 1                        1\n",
       " 568                      1\n",
       " 79                       1\n",
       " 78                       1\n",
       " 222                      1\n",
       " 999                      1\n",
       "Name: age, dtype: int64"
      ]
     },
     "execution_count": 19,
     "metadata": {},
     "output_type": "execute_result"
    }
   ],
   "source": [
    "df_survey['age'].value_counts()"
   ]
  },
  {
   "cell_type": "code",
   "execution_count": 20,
   "metadata": {
    "slideshow": {
     "slide_type": "skip"
    }
   },
   "outputs": [
    {
     "data": {
      "text/plain": [
       "23.0     912\n",
       "22.0     874\n",
       "24.0     855\n",
       "21.0     815\n",
       "25.0     797\n",
       "20.0     795\n",
       "26.0     667\n",
       "27.0     625\n",
       "19.0     606\n",
       "18.0     573\n",
       "28.0     548\n",
       "29.0     506\n",
       "30.0     459\n",
       "31.0     373\n",
       "32.0     370\n",
       "17.0     359\n",
       "16.0     308\n",
       "33.0     264\n",
       "34.0     251\n",
       "35.0     242\n",
       "15.0     187\n",
       "37.0     183\n",
       "36.0     181\n",
       "38.0     150\n",
       "39.0     126\n",
       "40.0     125\n",
       "14.0     105\n",
       "41.0      71\n",
       "42.0      70\n",
       "43.0      61\n",
       "50.0      60\n",
       "45.0      60\n",
       "44.0      59\n",
       "13.0      56\n",
       "46.0      49\n",
       "47.0      41\n",
       "52.0      38\n",
       "49.0      35\n",
       "51.0      31\n",
       "55.0      26\n",
       "48.0      26\n",
       "54.0      20\n",
       "53.0      20\n",
       "59.0      19\n",
       "56.0      19\n",
       "60.0      19\n",
       "57.0      19\n",
       "58.0      13\n",
       "12.0      12\n",
       "62.0      12\n",
       "61.0      11\n",
       "68.0      11\n",
       "66.0      10\n",
       "63.0       8\n",
       "64.0       8\n",
       "70.0       8\n",
       "67.0       7\n",
       "69.0       5\n",
       "72.0       5\n",
       "71.0       4\n",
       "65.0       4\n",
       "11.0       4\n",
       "73.0       3\n",
       "77.0       3\n",
       "999.0      1\n",
       "89.0       1\n",
       "79.0       1\n",
       "1.0        1\n",
       "10.0       1\n",
       "74.0       1\n",
       "222.0      1\n",
       "78.0       1\n",
       "568.0      1\n",
       "Name: age, dtype: int64"
      ]
     },
     "execution_count": 20,
     "metadata": {},
     "output_type": "execute_result"
    }
   ],
   "source": [
    "# replace with NaN\n",
    "df_survey.loc[df_survey['age'] == -9223372036854775808, 'age'] = np.nan\n",
    "\n",
    "# confirm replacement\n",
    "df_survey['age'].value_counts()"
   ]
  },
  {
   "cell_type": "code",
   "execution_count": 21,
   "metadata": {
    "slideshow": {
     "slide_type": "skip"
    }
   },
   "outputs": [
    {
     "name": "stdout",
     "output_type": "stream",
     "text": [
      "13527\n",
      "13509\n"
     ]
    },
    {
     "data": {
      "text/plain": [
       "23.0    912\n",
       "22.0    874\n",
       "24.0    855\n",
       "21.0    815\n",
       "25.0    797\n",
       "20.0    795\n",
       "26.0    667\n",
       "27.0    625\n",
       "19.0    606\n",
       "18.0    573\n",
       "28.0    548\n",
       "29.0    506\n",
       "30.0    459\n",
       "31.0    373\n",
       "32.0    370\n",
       "17.0    359\n",
       "16.0    308\n",
       "33.0    264\n",
       "34.0    251\n",
       "35.0    242\n",
       "15.0    187\n",
       "37.0    183\n",
       "36.0    181\n",
       "38.0    150\n",
       "39.0    126\n",
       "40.0    125\n",
       "14.0    105\n",
       "41.0     71\n",
       "42.0     70\n",
       "43.0     61\n",
       "50.0     60\n",
       "45.0     60\n",
       "44.0     59\n",
       "13.0     56\n",
       "46.0     49\n",
       "47.0     41\n",
       "52.0     38\n",
       "49.0     35\n",
       "51.0     31\n",
       "48.0     26\n",
       "55.0     26\n",
       "53.0     20\n",
       "54.0     20\n",
       "59.0     19\n",
       "56.0     19\n",
       "57.0     19\n",
       "60.0     19\n",
       "58.0     13\n",
       "62.0     12\n",
       "68.0     11\n",
       "61.0     11\n",
       "66.0     10\n",
       "70.0      8\n",
       "63.0      8\n",
       "64.0      8\n",
       "67.0      7\n",
       "69.0      5\n",
       "72.0      5\n",
       "71.0      4\n",
       "65.0      4\n",
       "73.0      3\n",
       "77.0      3\n",
       "78.0      1\n",
       "79.0      1\n",
       "89.0      1\n",
       "74.0      1\n",
       "Name: age, dtype: int64"
      ]
     },
     "execution_count": 21,
     "metadata": {},
     "output_type": "execute_result"
    }
   ],
   "source": [
    "# rows before\n",
    "print(len(df_survey))\n",
    "\n",
    "# drop rows where age is less than 13 - parental permission not on record\n",
    "df_survey.drop(df_survey[(df_survey.age<13)].index, inplace=True)\n",
    "\n",
    "# replace entry with NaN rows where age is greater than 99\n",
    "df_survey.loc[df_survey['age'] > 99, 'age'] = np.nan\n",
    "\n",
    "# rows after\n",
    "print(len(df_survey))\n",
    "\n",
    "# verify changes\n",
    "df_survey['age'].value_counts()"
   ]
  },
  {
   "cell_type": "markdown",
   "metadata": {
    "slideshow": {
     "slide_type": "skip"
    }
   },
   "source": [
    "<div class=\"alert alert-block alert-warning\">\n",
    "\n",
    "<b>Quality Issue #5:</b> Gender field contain invalid entries.\n",
    "\n",
    "SOLUTION: The responses for gender will be catorgozied as: 'Male', 'Female', 'Non-binary', 'Prefer not to disclose' (all of which are choices) OR 'Other' which all other responses will be classified under. \n",
    "</div>"
   ]
  },
  {
   "cell_type": "code",
   "execution_count": 22,
   "metadata": {
    "slideshow": {
     "slide_type": "skip"
    }
   },
   "outputs": [
    {
     "data": {
      "text/plain": [
       "Male                                                                                                                                                                                     11051\n",
       "Female                                                                                                                                                                                    1636\n",
       "Non-binary                                                                                                                                                                                 297\n",
       "Prefer not to disclose                                                                                                                                                                     133\n",
       "Attack Helicopter                                                                                                                                                                            2\n",
       "Agender                                                                                                                                                                                      2\n",
       "Apache attack helicopter                                                                                                                                                                     2\n",
       "cabbage                                                                                                                                                                                      1\n",
       "Transgender Female                                                                                                                                                                           1\n",
       "Transgender male                                                                                                                                                                             1\n",
       "Trans women                                                                                                                                                                                  1\n",
       "MTF Transgender                                                                                                                                                                              1\n",
       "Apache Attack Helicoptor                                                                                                                                                                     1\n",
       "Trans Male (FtM)                                                                                                                                                                             1\n",
       "Maleflux                                                                                                                                                                                     1\n",
       "Non-gender (not non-binary)                                                                                                                                                                  1\n",
       "yes                                                                                                                                                                                          1\n",
       "Woman adjacent                                                                                                                                                                               1\n",
       "Attack helicopter                                                                                                                                                                            1\n",
       "bender                                                                                                                                                                                       1\n",
       "Gender fluid                                                                                                                                                                                 1\n",
       "White Reparations                                                                                                                                                                            1\n",
       "Beef Cow (moo/mooo)                                                                                                                                                                          1\n",
       "Im big chungus                                                                                                                                                                               1\n",
       "He/Them. Bit of man, bit of enby                                                                                                                                                             1\n",
       "69                                                                                                                                                                                           1\n",
       "genderfluid                                                                                                                                                                                  1\n",
       "Agendered                                                                                                                                                                                    1\n",
       "attack helicopter                                                                                                                                                                            1\n",
       "Trans Female                                                                                                                                                                                 1\n",
       "Panzerkampfwagen IV Ausf.E medium tank                                                                                                                                                       1\n",
       "Alpha male                                                                                                                                                                                   1\n",
       "Transgender woman                                                                                                                                                                            1\n",
       "Alpha Male                                                                                                                                                                                   1\n",
       "Gigachad                                                                                                                                                                                     1\n",
       "None                                                                                                                                                                                         1\n",
       "How about just male or female if you wanna play mr.science, biology exists. And yes this is my name and if that is not ok I’m offended. I’m just playing by your rules. Biology is #1        1\n",
       "Name: gender, dtype: int64"
      ]
     },
     "execution_count": 22,
     "metadata": {},
     "output_type": "execute_result"
    }
   ],
   "source": [
    "df_survey['gender'].value_counts()"
   ]
  },
  {
   "cell_type": "code",
   "execution_count": 23,
   "metadata": {
    "slideshow": {
     "slide_type": "skip"
    }
   },
   "outputs": [
    {
     "data": {
      "text/plain": [
       "Male                      11051\n",
       "Female                     1636\n",
       "Other                       392\n",
       "Non-binary                  297\n",
       "Prefer not to disclose      133\n",
       "Name: gender, dtype: int64"
      ]
     },
     "execution_count": 23,
     "metadata": {},
     "output_type": "execute_result"
    }
   ],
   "source": [
    "def gender_replace(x):\n",
    "    if x in ['Male', 'Female', 'Non-binary', 'Prefer not to disclose']:\n",
    "        return x\n",
    "    else:\n",
    "        return 'Other'\n",
    "\n",
    "df_survey['gender'] = df_survey['gender'].apply(gender_replace)\n",
    "\n",
    "df_survey['gender'].value_counts()"
   ]
  },
  {
   "cell_type": "markdown",
   "metadata": {
    "slideshow": {
     "slide_type": "skip"
    }
   },
   "source": [
    "<div class=\"alert alert-block alert-warning\">\n",
    "\n",
    "<b>Quality Issue #6:</b> Race field can contain multiple entries separated by commas.\n",
    "\n",
    "SOLUTION: Any entry that has more than one race indicated will be replaced with \"Multiracial\"\n",
    "</div>"
   ]
  },
  {
   "cell_type": "code",
   "execution_count": 24,
   "metadata": {
    "scrolled": false,
    "slideshow": {
     "slide_type": "skip"
    }
   },
   "outputs": [
    {
     "data": {
      "text/plain": [
       "White                                                                                                                                         4713\n",
       "Asian                                                                                                                                          763\n",
       "White, Asian                                                                                                                                   165\n",
       "Black or African American                                                                                                                      157\n",
       "Choose Not to Disclose                                                                                                                         144\n",
       "White, American Indian or Alaska Native                                                                                                         55\n",
       "White, Black or African American                                                                                                                41\n",
       "Hispanic                                                                                                                                        24\n",
       "American Indian or Alaska Native                                                                                                                21\n",
       "Native Hawaiian and Pacific Islander                                                                                                            14\n",
       "Latino                                                                                                                                          11\n",
       "Middle Eastern                                                                                                                                   9\n",
       "White, Middle Eastern                                                                                                                            8\n",
       "White, Black or African American, American Indian or Alaska Native                                                                               8\n",
       "Asian, Native Hawaiian and Pacific Islander                                                                                                      8\n",
       "White, Native Hawaiian and Pacific Islander                                                                                                      7\n",
       "Mexican                                                                                                                                          6\n",
       "Arab                                                                                                                                             5\n",
       "Choose Not to Disclose, White                                                                                                                    4\n",
       "hispanic                                                                                                                                         4\n",
       "White, Black or African American, Asian                                                                                                          4\n",
       "White, Asian, Native Hawaiian and Pacific Islander                                                                                               4\n",
       "Black or African American, American Indian or Alaska Native                                                                                      4\n",
       "Black or African American, Asian                                                                                                                 3\n",
       "White, Hispanic                                                                                                                                  3\n",
       "Mexican                                                                                                                                          3\n",
       "Jewish                                                                                                                                           3\n",
       "Hispanic                                                                                                                                         3\n",
       "American Indian or Alaska Native, Asian                                                                                                          3\n",
       "Indian                                                                                                                                           3\n",
       "Mestizo                                                                                                                                          3\n",
       "White, Latino                                                                                                                                    2\n",
       "White, Hispanic                                                                                                                                  2\n",
       "Asian, South Asian - Indian                                                                                                                      2\n",
       "White, Black or African American, American Indian or Alaska Native, Native Hawaiian and Pacific Islander                                         2\n",
       "hispanic                                                                                                                                         2\n",
       "Biracial                                                                                                                                         2\n",
       "White, Asian, Hispanic                                                                                                                           2\n",
       "American                                                                                                                                         2\n",
       "Asian, middle eastern                                                                                                                            2\n",
       "Iranian                                                                                                                                          2\n",
       "Asian Indian                                                                                                                                     2\n",
       "Whatever Egyptian is                                                                                                                             2\n",
       "White, Ashkenazi Jewish                                                                                                                          2\n",
       "White, Jewish                                                                                                                                    2\n",
       "White, Chilean                                                                                                                                   1\n",
       "Asian, South Asian                                                                                                                               1\n",
       "Mix                                                                                                                                              1\n",
       "Asian, Palestinian                                                                                                                               1\n",
       "South Asian                                                                                                                                      1\n",
       "Arab/Middle Eastern                                                                                                                              1\n",
       "White, American Indian or Alaska Native, Native American Scotch Viking Jew                                                                       1\n",
       "White, Yemeni                                                                                                                                    1\n",
       "Latino / Hispanic                                                                                                                                1\n",
       "Indian, South Asian                                                                                                                              1\n",
       "Hood White                                                                                                                                       1\n",
       "South Asian / Middle Eastern                                                                                                                     1\n",
       "White, Italian                                                                                                                                   1\n",
       "see below                                                                                                                                        1\n",
       "White, Arab                                                                                                                                      1\n",
       "White, North African                                                                                                                             1\n",
       "White, Superior                                                                                                                                  1\n",
       "Mexican/Middle Eastern                                                                                                                           1\n",
       "Semitic                                                                                                                                          1\n",
       "White, Palestine                                                                                                                                 1\n",
       "Middle East                                                                                                                                      1\n",
       "Asian, Mixed                                                                                                                                     1\n",
       "White, Hispanic/Mexican                                                                                                                          1\n",
       "Asian, South Asian! Indian subcontinent.                                                                                                         1\n",
       "White, Asian, Sri Lankan                                                                                                                         1\n",
       "Middle-Eastern                                                                                                                                   1\n",
       "Half Chinese Half Scottish Canadian                                                                                                              1\n",
       "Black or African American, Native Hawaiian and Pacific Islander                                                                                  1\n",
       "Multiracial                                                                                                                                      1\n",
       "Mutt                                                                                                                                             1\n",
       "White, European and South America decent                                                                                                         1\n",
       "Afghan                                                                                                                                           1\n",
       "White/middle eastern                                                                                                                             1\n",
       "hispanic/latino                                                                                                                                  1\n",
       "slavic                                                                                                                                           1\n",
       "White, Mixed race, white passing                                                                                                                 1\n",
       "Asian, Pakistani                                                                                                                                 1\n",
       "Race is a harmful social construct that should not be used as an identifier.                                                                     1\n",
       "White, jewish                                                                                                                                    1\n",
       "Iberian                                                                                                                                          1\n",
       "White, Black or African American, American Indian or Alaska Native, Asian                                                                        1\n",
       "White, Asian, Jewish (Yes there's a difference between Jewish and White)                                                                         1\n",
       "European American                                                                                                                                1\n",
       "Choose Not to Disclose, Asian                                                                                                                    1\n",
       "Choose Not to Disclose, Puerto Rican                                                                                                             1\n",
       "Mixed Race                                                                                                                                       1\n",
       "Persian                                                                                                                                          1\n",
       "White, Middle eastern                                                                                                                            1\n",
       "Italian American                                                                                                                                 1\n",
       "White, Puerto Rican                                                                                                                              1\n",
       "Mix. Filipino/puerto rican italian                                                                                                               1\n",
       "Hispanic/Latino                                                                                                                                  1\n",
       "American Indian or Alaska Native, Mesoamerican                                                                                                   1\n",
       "Mixed Race (Mexican and WASP)                                                                                                                    1\n",
       "Chicano                                                                                                                                          1\n",
       "Latino                                                                                                                                           1\n",
       "Hispanic/Mexican-American                                                                                                                        1\n",
       "Asian, India                                                                                                                                     1\n",
       "Black or African American, American Indian or Alaska Native, French                                                                              1\n",
       "Half Mexican, Half Latvian                                                                                                                       1\n",
       "Human; we should stop caring about these arbitrary divisions                                                                                     1\n",
       "White, Indigenous Mexican                                                                                                                        1\n",
       "dominican                                                                                                                                        1\n",
       "White, middle eastern                                                                                                                            1\n",
       "White, Middle Eastern (Persian)                                                                                                                  1\n",
       "White, Middle Eastern to be specific.                                                                                                            1\n",
       "Middle Eastern                                                                                                                                   1\n",
       "Asian, Biracial Asian/Hispanic                                                                                                                   1\n",
       "White, Armenian                                                                                                                                  1\n",
       "Why the fuck would race have anything to do with meat washing.                                                                                   1\n",
       "White, South Asian                                                                                                                               1\n",
       "Black or African American, Puerto Rican and Black                                                                                                1\n",
       "White, Asian, Middle-Eastern / Indian                                                                                                            1\n",
       "Choose Not to Disclose, BLEUAUEEEBLAGUUU                                                                                                         1\n",
       "White Italian                                                                                                                                    1\n",
       "White, Mostly Italian                                                                                                                            1\n",
       "Asian, South Asian (Nepali)                                                                                                                      1\n",
       "Latinx/Hispanic                                                                                                                                  1\n",
       "Asian, Indian                                                                                                                                    1\n",
       "Asian, Asian Indian                                                                                                                              1\n",
       "Mixed/Mutt                                                                                                                                       1\n",
       "multiracial asian/white                                                                                                                          1\n",
       "White, Dutch/Mexican                                                                                                                             1\n",
       "Latino American                                                                                                                                  1\n",
       "Ashkenazi                                                                                                                                        1\n",
       "White, Russian, my cultural practices(gathering mushrooms, cuisine, probably some beliefs), are influenced by my St. Petersburgian parents       1\n",
       "Middle eastern                                                                                                                                   1\n",
       "Central American                                                                                                                                 1\n",
       "White, Italian (is Italian white? I don't think so)                                                                                              1\n",
       "White, Peruvian-American                                                                                                                         1\n",
       "White, American Indian or Alaska Native, Italian, German                                                                                         1\n",
       "Irish American                                                                                                                                   1\n",
       "Cuban                                                                                                                                            1\n",
       "mexican                                                                                                                                          1\n",
       "White, lebanese                                                                                                                                  1\n",
       "Latin American                                                                                                                                   1\n",
       "White, Native Hawaiian and Pacific Islander, I'm descended from Irish and Germans                                                                1\n",
       "White, Black or African American, Asian, Native Hawaiian and Pacific Islander                                                                    1\n",
       "Chicano (Spanish and Native American)                                                                                                            1\n",
       "more than one race                                                                                                                               1\n",
       "White, Mexican-American                                                                                                                          1\n",
       "Asian, Central Asian                                                                                                                             1\n",
       "White, Mexican                                                                                                                                   1\n",
       "Iranian (Middle Eastern)                                                                                                                         1\n",
       "hispanic/white                                                                                                                                   1\n",
       "Asian American                                                                                                                                   1\n",
       "Choose Not to Disclose, https://web.archive.org/web/20140227083947/http://www.sodabob.com/Constitution/Census.asp                                1\n",
       "White, Israeli                                                                                                                                   1\n",
       "White, Aryan                                                                                                                                     1\n",
       "White, Indigenous                                                                                                                                1\n",
       "White, Jewish (Ashkenazi and Sephardi)                                                                                                           1\n",
       "Mestizo                                                                                                                                          1\n",
       "Name: race, dtype: int64"
      ]
     },
     "execution_count": 24,
     "metadata": {},
     "output_type": "execute_result"
    }
   ],
   "source": [
    "df_survey['race'].value_counts()"
   ]
  },
  {
   "cell_type": "code",
   "execution_count": 25,
   "metadata": {
    "slideshow": {
     "slide_type": "skip"
    }
   },
   "outputs": [
    {
     "data": {
      "text/plain": [
       "Did not respond                                                                                                                               7166\n",
       "White                                                                                                                                         4713\n",
       "Asian                                                                                                                                          763\n",
       "White, Asian                                                                                                                                   165\n",
       "Black or African American                                                                                                                      157\n",
       "Choose Not to Disclose                                                                                                                         144\n",
       "White, American Indian or Alaska Native                                                                                                         55\n",
       "White, Black or African American                                                                                                                41\n",
       "Hispanic                                                                                                                                        24\n",
       "American Indian or Alaska Native                                                                                                                21\n",
       "Native Hawaiian and Pacific Islander                                                                                                            14\n",
       "Latino                                                                                                                                          11\n",
       "Middle Eastern                                                                                                                                   9\n",
       "Asian, Native Hawaiian and Pacific Islander                                                                                                      8\n",
       "White, Middle Eastern                                                                                                                            8\n",
       "White, Black or African American, American Indian or Alaska Native                                                                               8\n",
       "White, Native Hawaiian and Pacific Islander                                                                                                      7\n",
       "Mexican                                                                                                                                          6\n",
       "Arab                                                                                                                                             5\n",
       "hispanic                                                                                                                                         4\n",
       "White, Black or African American, Asian                                                                                                          4\n",
       "Choose Not to Disclose, White                                                                                                                    4\n",
       "Black or African American, American Indian or Alaska Native                                                                                      4\n",
       "White, Asian, Native Hawaiian and Pacific Islander                                                                                               4\n",
       "Indian                                                                                                                                           3\n",
       "Jewish                                                                                                                                           3\n",
       "Black or African American, Asian                                                                                                                 3\n",
       "White, Hispanic                                                                                                                                  3\n",
       "Mestizo                                                                                                                                          3\n",
       "American Indian or Alaska Native, Asian                                                                                                          3\n",
       "Mexican                                                                                                                                          3\n",
       "Hispanic                                                                                                                                         3\n",
       "Asian, South Asian - Indian                                                                                                                      2\n",
       "hispanic                                                                                                                                         2\n",
       "Biracial                                                                                                                                         2\n",
       "White, Hispanic                                                                                                                                  2\n",
       "White, Asian, Hispanic                                                                                                                           2\n",
       "White, Black or African American, American Indian or Alaska Native, Native Hawaiian and Pacific Islander                                         2\n",
       "White, Latino                                                                                                                                    2\n",
       "American                                                                                                                                         2\n",
       "Iranian                                                                                                                                          2\n",
       "Asian, middle eastern                                                                                                                            2\n",
       "Asian Indian                                                                                                                                     2\n",
       "Whatever Egyptian is                                                                                                                             2\n",
       "White, Ashkenazi Jewish                                                                                                                          2\n",
       "White, Jewish                                                                                                                                    2\n",
       "Asian, South Asian                                                                                                                               1\n",
       "Mix                                                                                                                                              1\n",
       "Asian, Palestinian                                                                                                                               1\n",
       "South Asian                                                                                                                                      1\n",
       "Arab/Middle Eastern                                                                                                                              1\n",
       "White, American Indian or Alaska Native, Native American Scotch Viking Jew                                                                       1\n",
       "White, Yemeni                                                                                                                                    1\n",
       "Hood White                                                                                                                                       1\n",
       "Latino / Hispanic                                                                                                                                1\n",
       "White, Palestine                                                                                                                                 1\n",
       "South Asian / Middle Eastern                                                                                                                     1\n",
       "see below                                                                                                                                        1\n",
       "White, Arab                                                                                                                                      1\n",
       "White, Italian                                                                                                                                   1\n",
       "White, North African                                                                                                                             1\n",
       "White, Superior                                                                                                                                  1\n",
       "Mexican/Middle Eastern                                                                                                                           1\n",
       "Semitic                                                                                                                                          1\n",
       "Indian, South Asian                                                                                                                              1\n",
       "White, Hispanic/Mexican                                                                                                                          1\n",
       "Asian, Mixed                                                                                                                                     1\n",
       "hispanic/latino                                                                                                                                  1\n",
       "White, Chilean                                                                                                                                   1\n",
       "Middle-Eastern                                                                                                                                   1\n",
       "Half Chinese Half Scottish Canadian                                                                                                              1\n",
       "White, Asian, Sri Lankan                                                                                                                         1\n",
       "Black or African American, Native Hawaiian and Pacific Islander                                                                                  1\n",
       "Multiracial                                                                                                                                      1\n",
       "Mutt                                                                                                                                             1\n",
       "Afghan                                                                                                                                           1\n",
       "White/middle eastern                                                                                                                             1\n",
       "White, European and South America decent                                                                                                         1\n",
       "Asian, South Asian! Indian subcontinent.                                                                                                         1\n",
       "slavic                                                                                                                                           1\n",
       "White, Mixed race, white passing                                                                                                                 1\n",
       "Race is a harmful social construct that should not be used as an identifier.                                                                     1\n",
       "Asian, Pakistani                                                                                                                                 1\n",
       "Iberian                                                                                                                                          1\n",
       "White, Black or African American, American Indian or Alaska Native, Asian                                                                        1\n",
       "White, jewish                                                                                                                                    1\n",
       "White, Asian, Jewish (Yes there's a difference between Jewish and White)                                                                         1\n",
       "Middle East                                                                                                                                      1\n",
       "European American                                                                                                                                1\n",
       "Choose Not to Disclose, Asian                                                                                                                    1\n",
       "Choose Not to Disclose, Puerto Rican                                                                                                             1\n",
       "Mixed Race                                                                                                                                       1\n",
       "Persian                                                                                                                                          1\n",
       "White, Middle eastern                                                                                                                            1\n",
       "Italian American                                                                                                                                 1\n",
       "White, Puerto Rican                                                                                                                              1\n",
       "Mix. Filipino/puerto rican italian                                                                                                               1\n",
       "Hispanic/Latino                                                                                                                                  1\n",
       "American Indian or Alaska Native, Mesoamerican                                                                                                   1\n",
       "Mixed Race (Mexican and WASP)                                                                                                                    1\n",
       "Chicano                                                                                                                                          1\n",
       "Latino                                                                                                                                           1\n",
       "Hispanic/Mexican-American                                                                                                                        1\n",
       "Asian, India                                                                                                                                     1\n",
       "Black or African American, American Indian or Alaska Native, French                                                                              1\n",
       "Half Mexican, Half Latvian                                                                                                                       1\n",
       "Human; we should stop caring about these arbitrary divisions                                                                                     1\n",
       "White, Indigenous Mexican                                                                                                                        1\n",
       "dominican                                                                                                                                        1\n",
       "White, middle eastern                                                                                                                            1\n",
       "White, Middle Eastern (Persian)                                                                                                                  1\n",
       "White, Middle Eastern to be specific.                                                                                                            1\n",
       "Middle Eastern                                                                                                                                   1\n",
       "Asian, Biracial Asian/Hispanic                                                                                                                   1\n",
       "White, Armenian                                                                                                                                  1\n",
       "Why the fuck would race have anything to do with meat washing.                                                                                   1\n",
       "White, South Asian                                                                                                                               1\n",
       "Black or African American, Puerto Rican and Black                                                                                                1\n",
       "White, Asian, Middle-Eastern / Indian                                                                                                            1\n",
       "Choose Not to Disclose, BLEUAUEEEBLAGUUU                                                                                                         1\n",
       "White Italian                                                                                                                                    1\n",
       "White, Mostly Italian                                                                                                                            1\n",
       "Asian, South Asian (Nepali)                                                                                                                      1\n",
       "Latinx/Hispanic                                                                                                                                  1\n",
       "Asian, Indian                                                                                                                                    1\n",
       "Asian, Asian Indian                                                                                                                              1\n",
       "Mixed/Mutt                                                                                                                                       1\n",
       "multiracial asian/white                                                                                                                          1\n",
       "White, Dutch/Mexican                                                                                                                             1\n",
       "Ashkenazi                                                                                                                                        1\n",
       "Mestizo                                                                                                                                          1\n",
       "White, Russian, my cultural practices(gathering mushrooms, cuisine, probably some beliefs), are influenced by my St. Petersburgian parents       1\n",
       "Middle eastern                                                                                                                                   1\n",
       "Central American                                                                                                                                 1\n",
       "White, Italian (is Italian white? I don't think so)                                                                                              1\n",
       "White, Peruvian-American                                                                                                                         1\n",
       "White, American Indian or Alaska Native, Italian, German                                                                                         1\n",
       "Irish American                                                                                                                                   1\n",
       "Cuban                                                                                                                                            1\n",
       "mexican                                                                                                                                          1\n",
       "White, lebanese                                                                                                                                  1\n",
       "Latin American                                                                                                                                   1\n",
       "White, Native Hawaiian and Pacific Islander, I'm descended from Irish and Germans                                                                1\n",
       "White, Black or African American, Asian, Native Hawaiian and Pacific Islander                                                                    1\n",
       "Chicano (Spanish and Native American)                                                                                                            1\n",
       "more than one race                                                                                                                               1\n",
       "White, Mexican-American                                                                                                                          1\n",
       "Asian, Central Asian                                                                                                                             1\n",
       "White, Mexican                                                                                                                                   1\n",
       "Iranian (Middle Eastern)                                                                                                                         1\n",
       "hispanic/white                                                                                                                                   1\n",
       "Asian American                                                                                                                                   1\n",
       "Choose Not to Disclose, https://web.archive.org/web/20140227083947/http://www.sodabob.com/Constitution/Census.asp                                1\n",
       "White, Israeli                                                                                                                                   1\n",
       "White, Aryan                                                                                                                                     1\n",
       "White, Indigenous                                                                                                                                1\n",
       "White, Jewish (Ashkenazi and Sephardi)                                                                                                           1\n",
       "Latino American                                                                                                                                  1\n",
       "Name: race, dtype: int64"
      ]
     },
     "execution_count": 25,
     "metadata": {},
     "output_type": "execute_result"
    }
   ],
   "source": [
    "df_survey['race'].fillna('Did not respond', inplace=True)\n",
    "\n",
    "# verify \n",
    "df_survey['race'].value_counts()"
   ]
  },
  {
   "cell_type": "code",
   "execution_count": 26,
   "metadata": {
    "slideshow": {
     "slide_type": "skip"
    }
   },
   "outputs": [
    {
     "data": {
      "text/plain": [
       "dtype('O')"
      ]
     },
     "execution_count": 26,
     "metadata": {},
     "output_type": "execute_result"
    }
   ],
   "source": [
    "# Datatype change to str\n",
    "df_survey['race'].astype(str)\n",
    "\n",
    "# Confirm change\n",
    "df_survey['race'].dtype"
   ]
  },
  {
   "cell_type": "markdown",
   "metadata": {
    "slideshow": {
     "slide_type": "skip"
    }
   },
   "source": [
    "Appears that 'race' was a question only given to those that selected 'United States of America' as their country of residence. As the number of entries for race also corresponds to country of residence. Respondents has the opportunity to select as many options as they identify with from a preset list of choices in addition to an other field. For this analysis, seeing just the top two comprise 86% of responses. For those that selected more than one option will be grouped as bi/multiracial. Responses that have less than 5 responses will be regrouped as 'Other' in order to find patterns in the data. "
   ]
  },
  {
   "cell_type": "code",
   "execution_count": 27,
   "metadata": {
    "slideshow": {
     "slide_type": "skip"
    }
   },
   "outputs": [
    {
     "data": {
      "text/plain": [
       "Did not respond                                                                 7166\n",
       "White                                                                           4713\n",
       "Asian                                                                            763\n",
       "Multiracial                                                                      394\n",
       "Black or African American                                                        157\n",
       "Choose Not to Disclose                                                           144\n",
       "Hispanic                                                                          24\n",
       "American Indian or Alaska Native                                                  21\n",
       "Native Hawaiian and Pacific Islander                                              14\n",
       "Latino                                                                            11\n",
       "Middle Eastern                                                                     9\n",
       "Mexican                                                                            6\n",
       "Arab                                                                               5\n",
       "hispanic                                                                           4\n",
       "Mestizo                                                                            3\n",
       "Mexican                                                                            3\n",
       "Indian                                                                             3\n",
       "Jewish                                                                             3\n",
       "Hispanic                                                                           3\n",
       "Whatever Egyptian is                                                               2\n",
       "hispanic                                                                           2\n",
       "American                                                                           2\n",
       "Iranian                                                                            2\n",
       "Biracial                                                                           2\n",
       "Asian Indian                                                                       2\n",
       "South Asian                                                                        1\n",
       "Middle East                                                                        1\n",
       "Iberian                                                                            1\n",
       "Race is a harmful social construct that should not be used as an identifier.       1\n",
       "Ashkenazi                                                                          1\n",
       "hispanic/latino                                                                    1\n",
       "White/middle eastern                                                               1\n",
       "Afghan                                                                             1\n",
       "Mutt                                                                               1\n",
       "European American                                                                  1\n",
       "Hood White                                                                         1\n",
       "slavic                                                                             1\n",
       "Mix                                                                                1\n",
       "Arab/Middle Eastern                                                                1\n",
       "Latino / Hispanic                                                                  1\n",
       "see below                                                                          1\n",
       "Mexican/Middle Eastern                                                             1\n",
       "Middle-Eastern                                                                     1\n",
       "Half Chinese Half Scottish Canadian                                                1\n",
       "South Asian / Middle Eastern                                                       1\n",
       "White Italian                                                                      1\n",
       "Why the fuck would race have anything to do with meat washing.                     1\n",
       "Middle Eastern                                                                     1\n",
       "dominican                                                                          1\n",
       "Human; we should stop caring about these arbitrary divisions                       1\n",
       "Persian                                                                            1\n",
       "Italian American                                                                   1\n",
       "Mix. Filipino/puerto rican italian                                                 1\n",
       "Hispanic/Latino                                                                    1\n",
       "Mixed Race                                                                         1\n",
       "Chicano                                                                            1\n",
       "Latino                                                                             1\n",
       "Hispanic/Mexican-American                                                          1\n",
       "Latinx/Hispanic                                                                    1\n",
       "Asian American                                                                     1\n",
       "hispanic/white                                                                     1\n",
       "Iranian (Middle Eastern)                                                           1\n",
       "more than one race                                                                 1\n",
       "Chicano (Spanish and Native American)                                              1\n",
       "Latin American                                                                     1\n",
       "Mixed/Mutt                                                                         1\n",
       "mexican                                                                            1\n",
       "Cuban                                                                              1\n",
       "Irish American                                                                     1\n",
       "Central American                                                                   1\n",
       "Middle eastern                                                                     1\n",
       "Mestizo                                                                            1\n",
       "Latino American                                                                    1\n",
       "multiracial asian/white                                                            1\n",
       "Mixed Race (Mexican and WASP)                                                      1\n",
       "Semitic                                                                            1\n",
       "Name: race, dtype: int64"
      ]
     },
     "execution_count": 27,
     "metadata": {},
     "output_type": "execute_result"
    }
   ],
   "source": [
    "# when more than one race listed change to 'Multiracial'\n",
    "df_survey.loc[df_survey['race'].str.contains('[,]'), 'race'] = 'Multiracial'\n",
    "\n",
    "# confirm changes\n",
    "df_survey['race'].value_counts()"
   ]
  },
  {
   "cell_type": "code",
   "execution_count": 28,
   "metadata": {
    "slideshow": {
     "slide_type": "skip"
    }
   },
   "outputs": [
    {
     "data": {
      "text/plain": [
       "Did not respond                     7166\n",
       "White                               4713\n",
       "Asian                                763\n",
       "Multiracial                          394\n",
       "Other                                295\n",
       "Black or African American            157\n",
       "American Indian or Alaska Native      21\n",
       "Name: race, dtype: int64"
      ]
     },
     "execution_count": 28,
     "metadata": {},
     "output_type": "execute_result"
    }
   ],
   "source": [
    "def race_replace(x):\n",
    "    if x in ['White', 'Asian', 'Black or African American', 'Prefer not to disclose', 'Native Hawaiian or Other Pacific Islander', 'American Indian or Alaska Native', 'Multiracial', 'Did not respond']:\n",
    "        return x\n",
    "    else:\n",
    "        return 'Other'\n",
    "\n",
    "df_survey['race'] = df_survey['race'].apply(race_replace)\n",
    "\n",
    "df_survey['race'].value_counts()"
   ]
  },
  {
   "cell_type": "markdown",
   "metadata": {
    "slideshow": {
     "slide_type": "skip"
    }
   },
   "source": [
    "<div class=\"alert alert-block alert-warning\">\n",
    "\n",
    "<b>Quality Issue #7:</b> Column \"household_size\" may contain decimals are numbers > 50.\n",
    "\n",
    "SOLUTION: Household size greater than 20 will be converted to NaN\n",
    "</div>\n"
   ]
  },
  {
   "cell_type": "code",
   "execution_count": 29,
   "metadata": {
    "slideshow": {
     "slide_type": "skip"
    }
   },
   "outputs": [
    {
     "data": {
      "text/plain": [
       " 2                      3885\n",
       " 3                      2558\n",
       " 4                      2488\n",
       " 1                      2420\n",
       " 5                      1149\n",
       "-9223372036854775808     384\n",
       " 6                       371\n",
       " 7                       135\n",
       " 8                        43\n",
       " 10                       19\n",
       " 9                        16\n",
       " 11                        9\n",
       " 12                        9\n",
       " 15                        6\n",
       " 0                         4\n",
       " 16                        3\n",
       " 20                        2\n",
       " 27                        1\n",
       " 68                        1\n",
       " 380                       1\n",
       " 33                        1\n",
       " 69                        1\n",
       " 14                        1\n",
       " 22                        1\n",
       " 83                        1\n",
       "Name: household_size, dtype: int64"
      ]
     },
     "execution_count": 29,
     "metadata": {},
     "output_type": "execute_result"
    }
   ],
   "source": [
    "df_survey['household_size'].value_counts()"
   ]
  },
  {
   "cell_type": "code",
   "execution_count": 30,
   "metadata": {
    "slideshow": {
     "slide_type": "skip"
    }
   },
   "outputs": [
    {
     "data": {
      "text/plain": [
       " 2.000000e+00    3885\n",
       " 3.000000e+00    2558\n",
       " 4.000000e+00    2488\n",
       " 1.000000e+00    2420\n",
       " 5.000000e+00    1149\n",
       "-9.223372e+18     384\n",
       " 6.000000e+00     371\n",
       " 7.000000e+00     135\n",
       " 8.000000e+00      43\n",
       " 1.000000e+01      19\n",
       " 9.000000e+00      16\n",
       " 1.200000e+01       9\n",
       " 1.100000e+01       9\n",
       " 1.500000e+01       6\n",
       " 0.000000e+00       4\n",
       " 1.600000e+01       3\n",
       " 2.000000e+01       2\n",
       " 1.400000e+01       1\n",
       "Name: household_size, dtype: int64"
      ]
     },
     "execution_count": 30,
     "metadata": {},
     "output_type": "execute_result"
    }
   ],
   "source": [
    "df_survey.loc[df_survey['household_size'] > 20, 'household_size'] = np.nan\n",
    "\n",
    "# confirm change\n",
    "df_survey['household_size'].value_counts()\n"
   ]
  },
  {
   "cell_type": "markdown",
   "metadata": {
    "slideshow": {
     "slide_type": "skip"
    }
   },
   "source": [
    "**The following explores the unique/ possible responses for some of the columns/ questions of the survey.**"
   ]
  },
  {
   "cell_type": "code",
   "execution_count": 31,
   "metadata": {
    "slideshow": {
     "slide_type": "skip"
    }
   },
   "outputs": [
    {
     "data": {
      "text/plain": [
       "No     5746\n",
       "Yes     597\n",
       "Name: hispanic, dtype: int64"
      ]
     },
     "execution_count": 31,
     "metadata": {},
     "output_type": "execute_result"
    }
   ],
   "source": [
    "df_survey['hispanic'].value_counts()"
   ]
  },
  {
   "cell_type": "code",
   "execution_count": 32,
   "metadata": {
    "slideshow": {
     "slide_type": "skip"
    }
   },
   "outputs": [
    {
     "data": {
      "text/plain": [
       "Most of the time                          6451\n",
       "All of the time (that is without fail)    3315\n",
       "Some of the time                          2811\n",
       "Never                                      599\n",
       "Name: often_wash_hands, dtype: int64"
      ]
     },
     "execution_count": 32,
     "metadata": {},
     "output_type": "execute_result"
    }
   ],
   "source": [
    "df_survey['often_wash_hands'].value_counts()"
   ]
  },
  {
   "cell_type": "code",
   "execution_count": 33,
   "metadata": {
    "slideshow": {
     "slide_type": "skip"
    }
   },
   "outputs": [
    {
     "data": {
      "text/plain": [
       "Always                 10745\n",
       "Usually                 1790\n",
       "Sometimes                196\n",
       "About Half the time      185\n",
       "Seldom                   137\n",
       "Never                     96\n",
       "Name: often_different_plates, dtype: int64"
      ]
     },
     "execution_count": 33,
     "metadata": {},
     "output_type": "execute_result"
    }
   ],
   "source": [
    "df_survey['often_different_plates'].value_counts()"
   ]
  },
  {
   "cell_type": "code",
   "execution_count": 34,
   "metadata": {
    "slideshow": {
     "slide_type": "skip"
    }
   },
   "outputs": [
    {
     "data": {
      "text/plain": [
       "Never                  4623\n",
       "Usually                2351\n",
       "Seldom                 1866\n",
       "Sometimes              1612\n",
       "About Half the time    1414\n",
       "Always                 1276\n",
       "Name: often_thermometer, dtype: int64"
      ]
     },
     "execution_count": 34,
     "metadata": {},
     "output_type": "execute_result"
    }
   ],
   "source": [
    "df_survey['often_thermometer'].value_counts()"
   ]
  },
  {
   "cell_type": "code",
   "execution_count": 35,
   "metadata": {
    "slideshow": {
     "slide_type": "skip"
    }
   },
   "outputs": [
    {
     "data": {
      "text/plain": [
       "Never                  7604\n",
       "Seldom                 2631\n",
       "Sometimes              1068\n",
       "Usually                 719\n",
       "About Half the time     674\n",
       "Always                  439\n",
       "Name: often_not_wash_utensils, dtype: int64"
      ]
     },
     "execution_count": 35,
     "metadata": {},
     "output_type": "execute_result"
    }
   ],
   "source": [
    "df_survey['often_not_wash_utensils'].value_counts()"
   ]
  },
  {
   "cell_type": "code",
   "execution_count": 36,
   "metadata": {
    "slideshow": {
     "slide_type": "skip"
    }
   },
   "outputs": [
    {
     "data": {
      "text/plain": [
       "Never                  10359\n",
       "Seldom                  1420\n",
       "Sometimes                424\n",
       "Always                   331\n",
       "Usually                  312\n",
       "About Half the time      292\n",
       "Name: often_not_wash_cutting_board, dtype: int64"
      ]
     },
     "execution_count": 36,
     "metadata": {},
     "output_type": "execute_result"
    }
   ],
   "source": [
    "df_survey['often_not_wash_cutting_board'].value_counts()"
   ]
  },
  {
   "cell_type": "code",
   "execution_count": 37,
   "metadata": {
    "slideshow": {
     "slide_type": "skip"
    }
   },
   "outputs": [
    {
     "data": {
      "text/plain": [
       "Seldom                 4136\n",
       "Sometimes              3311\n",
       "Never                  2999\n",
       "About Half the time    1447\n",
       "Usually                1021\n",
       "Always                  241\n",
       "Name: often_leave_food_2hrs, dtype: int64"
      ]
     },
     "execution_count": 37,
     "metadata": {},
     "output_type": "execute_result"
    }
   ],
   "source": [
    "df_survey['often_leave_food_2hrs'].value_counts()"
   ]
  },
  {
   "cell_type": "code",
   "execution_count": 38,
   "metadata": {
    "slideshow": {
     "slide_type": "skip"
    }
   },
   "outputs": [
    {
     "data": {
      "text/plain": [
       "Often        9630\n",
       "Sometimes    3007\n",
       "Seldom        526\n",
       "Never          13\n",
       "Name: times_prepare_meal, dtype: int64"
      ]
     },
     "execution_count": 38,
     "metadata": {},
     "output_type": "execute_result"
    }
   ],
   "source": [
    "df_survey['times_prepare_meal'].value_counts()"
   ]
  },
  {
   "cell_type": "code",
   "execution_count": 39,
   "metadata": {
    "slideshow": {
     "slide_type": "skip"
    }
   },
   "outputs": [
    {
     "data": {
      "text/plain": [
       "Dont Wash    10405\n",
       "Wash          1436\n",
       "Name: wash_pork, dtype: int64"
      ]
     },
     "execution_count": 39,
     "metadata": {},
     "output_type": "execute_result"
    }
   ],
   "source": [
    "df_survey['wash_pork'].value_counts()"
   ]
  },
  {
   "cell_type": "code",
   "execution_count": 40,
   "metadata": {
    "slideshow": {
     "slide_type": "skip"
    }
   },
   "outputs": [
    {
     "data": {
      "text/plain": [
       "By cleaning the kitchen sink, By cleaning bowls or other tools, By cleaning countertops or any surfaces other than the sink, With inedible cleaning products other than bleach                                                                                                                       472\n",
       "By cleaning the kitchen sink, By cleaning bowls or other tools, By cleaning countertops or any surfaces other than the sink, With plain hot water, With inedible cleaning products other than bleach                                                                                                 246\n",
       "By cleaning the kitchen sink, By cleaning bowls or other tools, By cleaning countertops or any surfaces other than the sink                                                                                                                                                                          225\n",
       "By cleaning the kitchen sink                                                                                                                                                                                                                                                                         196\n",
       "By cleaning the kitchen sink, By cleaning bowls or other tools, By cleaning countertops or any surfaces other than the sink, With plain hot water                                                                                                                                                    195\n",
       "By cleaning the kitchen sink, By cleaning bowls or other tools, By cleaning countertops or any surfaces other than the sink, With plain cold water                                                                                                                                                   167\n",
       "By cleaning the kitchen sink, By cleaning bowls or other tools, By cleaning countertops or any surfaces other than the sink, With plain cold water, With inedible cleaning products other than bleach                                                                                                141\n",
       "By cleaning the kitchen sink, By cleaning bowls or other tools, With inedible cleaning products other than bleach                                                                                                                                                                                    115\n",
       "By cleaning the kitchen sink, By cleaning bowls or other tools                                                                                                                                                                                                                                       111\n",
       "With plain cold water                                                                                                                                                                                                                                                                                106\n",
       "By cleaning bowls or other tools                                                                                                                                                                                                                                                                      87\n",
       "By cleaning the kitchen sink, By cleaning bowls or other tools, With plain hot water                                                                                                                                                                                                                  78\n",
       "By cleaning the kitchen sink, By cleaning bowls or other tools, By cleaning countertops or any surfaces other than the sink, With bleach                                                                                                                                                              75\n",
       "By cleaning bowls or other tools, By cleaning countertops or any surfaces other than the sink, With inedible cleaning products other than bleach                                                                                                                                                      74\n",
       "By cleaning the kitchen sink, By cleaning bowls or other tools, By cleaning countertops or any surfaces other than the sink, With bleach, With inedible cleaning products other than bleach                                                                                                           70\n",
       "With plain hot water                                                                                                                                                                                                                                                                                  68\n",
       "By cleaning bowls or other tools, By cleaning countertops or any surfaces other than the sink                                                                                                                                                                                                         67\n",
       "By cleaning the kitchen sink, With plain cold water                                                                                                                                                                                                                                                   62\n",
       "By cleaning the kitchen sink, With inedible cleaning products other than bleach                                                                                                                                                                                                                       61\n",
       "By cleaning the kitchen sink, By cleaning bowls or other tools, With plain cold water                                                                                                                                                                                                                 60\n",
       "By cleaning the kitchen sink, By cleaning countertops or any surfaces other than the sink, With inedible cleaning products other than bleach                                                                                                                                                          59\n",
       "By cleaning the kitchen sink, With plain hot water                                                                                                                                                                                                                                                    55\n",
       "By cleaning the kitchen sink, By cleaning countertops or any surfaces other than the sink                                                                                                                                                                                                             52\n",
       "By cleaning the kitchen sink, By cleaning bowls or other tools, With plain hot water, With inedible cleaning products other than bleach                                                                                                                                                               51\n",
       "By cleaning the kitchen sink, By cleaning bowls or other tools, By cleaning countertops or any surfaces other than the sink, With plain hot water, With bleach                                                                                                                                        51\n",
       "By cleaning bowls or other tools, By cleaning countertops or any surfaces other than the sink, With plain hot water                                                                                                                                                                                   48\n",
       "By cleaning bowls or other tools, By cleaning countertops or any surfaces other than the sink, With plain cold water                                                                                                                                                                                  48\n",
       "By cleaning bowls or other tools, With plain cold water                                                                                                                                                                                                                                               46\n",
       "By cleaning the kitchen sink, By cleaning bowls or other tools, By cleaning countertops or any surfaces other than the sink, With vinegar or other edible substance other than water                                                                                                                  44\n",
       "By cleaning the kitchen sink, By cleaning bowls or other tools, By cleaning countertops or any surfaces other than the sink, With plain cold water, With plain hot water                                                                                                                              43\n",
       "By cleaning the kitchen sink, By cleaning bowls or other tools, By cleaning countertops or any surfaces other than the sink, With plain hot water, With vinegar or other edible substance other than water                                                                                            42\n",
       "By cleaning bowls or other tools, By cleaning countertops or any surfaces other than the sink, With plain hot water, With inedible cleaning products other than bleach                                                                                                                                36\n",
       "By cleaning the kitchen sink, By cleaning bowls or other tools, With plain cold water, With inedible cleaning products other than bleach                                                                                                                                                              36\n",
       "By cleaning the kitchen sink, By cleaning bowls or other tools, By cleaning countertops or any surfaces other than the sink, With plain hot water, With bleach, With inedible cleaning products other than bleach                                                                                     34\n",
       "By cleaning bowls or other tools, By cleaning countertops or any surfaces other than the sink, With plain cold water, With inedible cleaning products other than bleach                                                                                                                               30\n",
       "By cleaning the kitchen sink, By cleaning countertops or any surfaces other than the sink, With plain hot water, With inedible cleaning products other than bleach                                                                                                                                    30\n",
       "By cleaning bowls or other tools, With plain hot water                                                                                                                                                                                                                                                29\n",
       "By cleaning bowls or other tools, With inedible cleaning products other than bleach                                                                                                                                                                                                                   27\n",
       "By cleaning the kitchen sink, By cleaning bowls or other tools, By cleaning countertops or any surfaces other than the sink, With vinegar or other edible substance other than water, With inedible cleaning products other than bleach                                                               27\n",
       "By cleaning the kitchen sink, By cleaning bowls or other tools, By cleaning countertops or any surfaces other than the sink, With plain cold water, With plain hot water, With inedible cleaning products other than bleach                                                                           26\n",
       "By cleaning the kitchen sink, By cleaning bowls or other tools, By cleaning countertops or any surfaces other than the sink, With plain hot water, With vinegar or other edible substance other than water, With inedible cleaning products other than bleach                                         26\n",
       "By cleaning the kitchen sink, With plain hot water, With inedible cleaning products other than bleach                                                                                                                                                                                                 25\n",
       "With inedible cleaning products other than bleach                                                                                                                                                                                                                                                     25\n",
       "By cleaning countertops or any surfaces other than the sink                                                                                                                                                                                                                                           24\n",
       "By cleaning the kitchen sink, By cleaning countertops or any surfaces other than the sink, With plain hot water                                                                                                                                                                                       22\n",
       "By cleaning the kitchen sink, By cleaning countertops or any surfaces other than the sink, With plain cold water                                                                                                                                                                                      18\n",
       "By cleaning the kitchen sink, By cleaning bowls or other tools, By cleaning countertops or any surfaces other than the sink, With plain cold water, With bleach                                                                                                                                       16\n",
       "By cleaning the kitchen sink, By cleaning bowls or other tools, By cleaning countertops or any surfaces other than the sink, With plain cold water, With plain hot water, With vinegar or other edible substance other than water                                                                     15\n",
       "With bleach                                                                                                                                                                                                                                                                                           15\n",
       "By cleaning countertops or any surfaces other than the sink, With inedible cleaning products other than bleach                                                                                                                                                                                        15\n",
       "By cleaning the kitchen sink, With plain cold water, With inedible cleaning products other than bleach                                                                                                                                                                                                15\n",
       "By cleaning the kitchen sink, By cleaning bowls or other tools, By cleaning countertops or any surfaces other than the sink, With vinegar or other edible substance other than water, With bleach, With inedible cleaning products other than bleach                                                  14\n",
       "With vinegar or other edible substance other than water                                                                                                                                                                                                                                               14\n",
       "By cleaning bowls or other tools, With plain hot water, With inedible cleaning products other than bleach                                                                                                                                                                                             13\n",
       "By cleaning the kitchen sink, By cleaning bowls or other tools, With plain cold water, With plain hot water                                                                                                                                                                                           13\n",
       "By cleaning the kitchen sink, By cleaning bowls or other tools, By cleaning countertops or any surfaces other than the sink, With plain hot water, With vinegar or other edible substance other than water, With bleach                                                                               13\n",
       "By cleaning the kitchen sink, By cleaning bowls or other tools, By cleaning countertops or any surfaces other than the sink, With plain cold water, With plain hot water, With vinegar or other edible substance other than water, With bleach, With inedible cleaning products other than bleach     13\n",
       "By cleaning the kitchen sink, By cleaning bowls or other tools, By cleaning countertops or any surfaces other than the sink, With plain hot water, With vinegar or other edible substance other than water, With bleach, With inedible cleaning products other than bleach                            13\n",
       "With plain cold water, With plain hot water                                                                                                                                                                                                                                                           13\n",
       "By cleaning the kitchen sink, By cleaning bowls or other tools, With bleach                                                                                                                                                                                                                           12\n",
       "By cleaning the kitchen sink, By cleaning bowls or other tools, By cleaning countertops or any surfaces other than the sink, With plain cold water, With vinegar or other edible substance other than water                                                                                           12\n",
       "With plain hot water, With inedible cleaning products other than bleach                                                                                                                                                                                                                               11\n",
       "By cleaning the kitchen sink, By cleaning bowls or other tools, By cleaning countertops or any surfaces other than the sink, With plain cold water, With vinegar or other edible substance other than water, With inedible cleaning products other than bleach                                        11\n",
       "By cleaning countertops or any surfaces other than the sink, With plain cold water                                                                                                                                                                                                                    11\n",
       "By cleaning bowls or other tools, With plain cold water, With inedible cleaning products other than bleach                                                                                                                                                                                            11\n",
       "By cleaning bowls or other tools, By cleaning countertops or any surfaces other than the sink, With plain cold water, With plain hot water                                                                                                                                                            11\n",
       "By cleaning the kitchen sink, By cleaning bowls or other tools, By cleaning countertops or any surfaces other than the sink, With plain cold water, With bleach, With inedible cleaning products other than bleach                                                                                    10\n",
       "By cleaning the kitchen sink, By cleaning countertops or any surfaces other than the sink, With bleach                                                                                                                                                                                                10\n",
       "By cleaning the kitchen sink, By cleaning bowls or other tools, With plain cold water, With plain hot water, With inedible cleaning products other than bleach                                                                                                                                        10\n",
       "By cleaning countertops or any surfaces other than the sink, With plain hot water                                                                                                                                                                                                                     10\n",
       "By cleaning the kitchen sink, With plain cold water, With plain hot water                                                                                                                                                                                                                              9\n",
       "By cleaning the kitchen sink, By cleaning bowls or other tools, By cleaning countertops or any surfaces other than the sink, With vinegar or other edible substance other than water, With bleach                                                                                                      8\n",
       "By cleaning the kitchen sink, With bleach                                                                                                                                                                                                                                                              7\n",
       "By cleaning the kitchen sink, By cleaning bowls or other tools, With vinegar or other edible substance other than water                                                                                                                                                                                7\n",
       "By cleaning bowls or other tools, By cleaning countertops or any surfaces other than the sink, With plain hot water, With vinegar or other edible substance other than water                                                                                                                           7\n",
       "By cleaning the kitchen sink, By cleaning bowls or other tools, By cleaning countertops or any surfaces other than the sink, With plain cold water, With plain hot water, With bleach, With inedible cleaning products other than bleach                                                               7\n",
       "By cleaning the kitchen sink, By cleaning countertops or any surfaces other than the sink, With bleach, With inedible cleaning products other than bleach                                                                                                                                              6\n",
       "By cleaning bowls or other tools, By cleaning countertops or any surfaces other than the sink, With plain hot water, With bleach                                                                                                                                                                       6\n",
       "By cleaning the kitchen sink, By cleaning bowls or other tools, By cleaning countertops or any surfaces other than the sink, With plain cold water, With vinegar or other edible substance other than water, With bleach                                                                               6\n",
       "By cleaning the kitchen sink, By cleaning countertops or any surfaces other than the sink, With plain cold water, With inedible cleaning products other than bleach                                                                                                                                    6\n",
       "By cleaning the kitchen sink, With vinegar or other edible substance other than water, With inedible cleaning products other than bleach                                                                                                                                                               5\n",
       "By cleaning bowls or other tools, By cleaning countertops or any surfaces other than the sink, With plain cold water, With plain hot water, With inedible cleaning products other than bleach                                                                                                          5\n",
       "By cleaning the kitchen sink, By cleaning bowls or other tools, With bleach, With inedible cleaning products other than bleach                                                                                                                                                                         5\n",
       "By cleaning the kitchen sink, By cleaning bowls or other tools, With plain hot water, With vinegar or other edible substance other than water                                                                                                                                                          5\n",
       "By cleaning the kitchen sink, By cleaning bowls or other tools, By cleaning countertops or any surfaces other than the sink, With plain cold water, With plain hot water, With vinegar or other edible substance other than water, With inedible cleaning products other than bleach                   5\n",
       "By cleaning bowls or other tools, By cleaning countertops or any surfaces other than the sink, With plain hot water, With vinegar or other edible substance other than water, With inedible cleaning products other than bleach                                                                        5\n",
       "By cleaning bowls or other tools, By cleaning countertops or any surfaces other than the sink, With bleach, With inedible cleaning products other than bleach                                                                                                                                          5\n",
       "By cleaning countertops or any surfaces other than the sink, With plain hot water, With inedible cleaning products other than bleach                                                                                                                                                                   4\n",
       "By cleaning the kitchen sink, With plain hot water, With bleach                                                                                                                                                                                                                                        4\n",
       "By cleaning the kitchen sink, By cleaning countertops or any surfaces other than the sink, With plain cold water, With plain hot water, With inedible cleaning products other than bleach                                                                                                              4\n",
       "By cleaning bowls or other tools, With plain cold water, With plain hot water                                                                                                                                                                                                                          4\n",
       "By cleaning the kitchen sink, By cleaning bowls or other tools, With vinegar or other edible substance other than water, With inedible cleaning products other than bleach                                                                                                                             4\n",
       "By cleaning the kitchen sink, With plain cold water, With vinegar or other edible substance other than water                                                                                                                                                                                           4\n",
       "By cleaning bowls or other tools, With vinegar or other edible substance other than water                                                                                                                                                                                                              4\n",
       "By cleaning the kitchen sink, By cleaning bowls or other tools, With plain cold water, With vinegar or other edible substance other than water                                                                                                                                                         4\n",
       "By cleaning the kitchen sink, With plain cold water, With plain hot water, With inedible cleaning products other than bleach                                                                                                                                                                           4\n",
       "By cleaning bowls or other tools, By cleaning countertops or any surfaces other than the sink, With plain hot water, With bleach, With inedible cleaning products other than bleach                                                                                                                    3\n",
       "By cleaning the kitchen sink, By cleaning bowls or other tools, By cleaning countertops or any surfaces other than the sink, With plain cold water, With plain hot water, With vinegar or other edible substance other than water, With bleach                                                         3\n",
       "By cleaning the kitchen sink, By cleaning countertops or any surfaces other than the sink, With vinegar or other edible substance other than water                                                                                                                                                     3\n",
       "By cleaning bowls or other tools, By cleaning countertops or any surfaces other than the sink, With bleach                                                                                                                                                                                             3\n",
       "By cleaning bowls or other tools, With bleach, With inedible cleaning products other than bleach                                                                                                                                                                                                       3\n",
       "By cleaning the kitchen sink, By cleaning bowls or other tools, By cleaning countertops or any surfaces other than the sink, With plain cold water, With vinegar or other edible substance other than water, With bleach, With inedible cleaning products other than bleach                            2\n",
       "By cleaning the kitchen sink, By cleaning countertops or any surfaces other than the sink, With plain hot water, With vinegar or other edible substance other than water                                                                                                                               2\n",
       "By cleaning the kitchen sink, With plain hot water, With bleach, With inedible cleaning products other than bleach                                                                                                                                                                                     2\n",
       "By cleaning the kitchen sink, By cleaning bowls or other tools, With plain cold water, With bleach                                                                                                                                                                                                     2\n",
       "By cleaning the kitchen sink, With vinegar or other edible substance other than water                                                                                                                                                                                                                  2\n",
       "By cleaning countertops or any surfaces other than the sink, With plain cold water, With inedible cleaning products other than bleach                                                                                                                                                                  2\n",
       "By cleaning the kitchen sink, With bleach, With inedible cleaning products other than bleach                                                                                                                                                                                                           2\n",
       "By cleaning the kitchen sink, With plain hot water, With vinegar or other edible substance other than water                                                                                                                                                                                            2\n",
       "By cleaning bowls or other tools, By cleaning countertops or any surfaces other than the sink, With vinegar or other edible substance other than water, With inedible cleaning products other than bleach                                                                                              2\n",
       "By cleaning bowls or other tools, With plain cold water, With plain hot water, With inedible cleaning products other than bleach                                                                                                                                                                       2\n",
       "By cleaning countertops or any surfaces other than the sink, With bleach                                                                                                                                                                                                                               2\n",
       "By cleaning the kitchen sink, By cleaning bowls or other tools, With plain hot water, With bleach                                                                                                                                                                                                      2\n",
       "By cleaning the kitchen sink, By cleaning countertops or any surfaces other than the sink, With plain hot water, With bleach                                                                                                                                                                           2\n",
       "By cleaning bowls or other tools, By cleaning countertops or any surfaces other than the sink, With vinegar or other edible substance other than water                                                                                                                                                 2\n",
       "By cleaning the kitchen sink, By cleaning countertops or any surfaces other than the sink, With plain hot water, With vinegar or other edible substance other than water, With inedible cleaning products other than bleach                                                                            2\n",
       "By cleaning the kitchen sink, By cleaning countertops or any surfaces other than the sink, With vinegar or other edible substance other than water, With inedible cleaning products other than bleach                                                                                                  2\n",
       "By cleaning the kitchen sink, By cleaning bowls or other tools, With plain hot water, With bleach, With inedible cleaning products other than bleach                                                                                                                                                   2\n",
       "With vinegar or other edible substance other than water, With inedible cleaning products other than bleach                                                                                                                                                                                             1\n",
       "By cleaning bowls or other tools, By cleaning countertops or any surfaces other than the sink, With plain hot water, With vinegar or other edible substance other than water, With bleach                                                                                                              1\n",
       "With plain cold water, With vinegar or other edible substance other than water                                                                                                                                                                                                                         1\n",
       "By cleaning the kitchen sink, With vinegar or other edible substance other than water, With bleach, With inedible cleaning products other than bleach                                                                                                                                                  1\n",
       "With vinegar or other edible substance other than water, With bleach, With inedible cleaning products other than bleach                                                                                                                                                                                1\n",
       "By cleaning the kitchen sink, By cleaning bowls or other tools, With plain cold water, With vinegar or other edible substance other than water, With inedible cleaning products other than bleach                                                                                                      1\n",
       "By cleaning the kitchen sink, By cleaning countertops or any surfaces other than the sink, With plain cold water, With plain hot water, With vinegar or other edible substance other than water                                                                                                        1\n",
       "By cleaning the kitchen sink, By cleaning countertops or any surfaces other than the sink, With plain cold water, With plain hot water, With bleach                                                                                                                                                    1\n",
       "With plain hot water, With bleach                                                                                                                                                                                                                                                                      1\n",
       "By cleaning the kitchen sink, By cleaning bowls or other tools, With plain cold water, With vinegar or other edible substance other than water, With bleach, With inedible cleaning products other than bleach                                                                                         1\n",
       "With bleach, With inedible cleaning products other than bleach                                                                                                                                                                                                                                         1\n",
       "By cleaning the kitchen sink, With plain hot water, With vinegar or other edible substance other than water, With bleach, With inedible cleaning products other than bleach                                                                                                                            1\n",
       "By cleaning bowls or other tools, By cleaning countertops or any surfaces other than the sink, With plain hot water, With vinegar or other edible substance other than water, With bleach, With inedible cleaning products other than bleach                                                           1\n",
       "With plain hot water, With vinegar or other edible substance other than water                                                                                                                                                                                                                          1\n",
       "By cleaning bowls or other tools, By cleaning countertops or any surfaces other than the sink, With plain cold water, With vinegar or other edible substance other than water                                                                                                                          1\n",
       "With plain cold water, With inedible cleaning products other than bleach                                                                                                                                                                                                                               1\n",
       "By cleaning countertops or any surfaces other than the sink, With plain cold water, With vinegar or other edible substance other than water, With inedible cleaning products other than bleach                                                                                                         1\n",
       "By cleaning bowls or other tools, By cleaning countertops or any surfaces other than the sink, With vinegar or other edible substance other than water, With bleach, With inedible cleaning products other than bleach                                                                                 1\n",
       "By cleaning bowls or other tools, With plain hot water, With vinegar or other edible substance other than water                                                                                                                                                                                        1\n",
       "By cleaning bowls or other tools, With plain hot water, With bleach                                                                                                                                                                                                                                    1\n",
       "By cleaning the kitchen sink, By cleaning bowls or other tools, By cleaning countertops or any surfaces other than the sink, With plain cold water, With plain hot water, With bleach                                                                                                                  1\n",
       "By cleaning the kitchen sink, With plain hot water, With vinegar or other edible substance other than water, With bleach                                                                                                                                                                               1\n",
       "By cleaning countertops or any surfaces other than the sink, With bleach, With inedible cleaning products other than bleach                                                                                                                                                                            1\n",
       "By cleaning bowls or other tools, By cleaning countertops or any surfaces other than the sink, With plain cold water, With bleach, With inedible cleaning products other than bleach                                                                                                                   1\n",
       "By cleaning bowls or other tools, With plain cold water, With vinegar or other edible substance other than water                                                                                                                                                                                       1\n",
       "By cleaning the kitchen sink, By cleaning bowls or other tools, With vinegar or other edible substance other than water, With bleach, With inedible cleaning products other than bleach                                                                                                                1\n",
       "By cleaning the kitchen sink, By cleaning bowls or other tools, With plain cold water, With plain hot water, With vinegar or other edible substance other than water, With inedible cleaning products other than bleach                                                                                1\n",
       "By cleaning bowls or other tools, With plain cold water, With plain hot water, With vinegar or other edible substance other than water                                                                                                                                                                 1\n",
       "By cleaning the kitchen sink, By cleaning bowls or other tools, With plain hot water, With vinegar or other edible substance other than water, With bleach                                                                                                                                             1\n",
       "By cleaning the kitchen sink, By cleaning bowls or other tools, With vinegar or other edible substance other than water, With bleach                                                                                                                                                                   1\n",
       "By cleaning the kitchen sink, With plain cold water, With plain hot water, With bleach                                                                                                                                                                                                                 1\n",
       "By cleaning bowls or other tools, With plain cold water, With plain hot water, With vinegar or other edible substance other than water, With inedible cleaning products other than bleach                                                                                                              1\n",
       "By cleaning the kitchen sink, With plain cold water, With plain hot water, With vinegar or other edible substance other than water                                                                                                                                                                     1\n",
       "By cleaning the kitchen sink, By cleaning bowls or other tools, With plain cold water, With plain hot water, With vinegar or other edible substance other than water                                                                                                                                   1\n",
       "By cleaning countertops or any surfaces other than the sink, With plain cold water, With plain hot water, With vinegar or other edible substance other than water                                                                                                                                      1\n",
       "By cleaning the kitchen sink, By cleaning countertops or any surfaces other than the sink, With plain cold water, With plain hot water                                                                                                                                                                 1\n",
       "By cleaning bowls or other tools, With vinegar or other edible substance other than water, With inedible cleaning products other than bleach                                                                                                                                                           1\n",
       "Name: cleanup, dtype: int64"
      ]
     },
     "execution_count": 40,
     "metadata": {},
     "output_type": "execute_result"
    }
   ],
   "source": [
    "df_survey['cleanup'].value_counts()"
   ]
  },
  {
   "cell_type": "markdown",
   "metadata": {
    "slideshow": {
     "slide_type": "skip"
    }
   },
   "source": [
    "<div class=\"alert alert-block alert-info\">\n",
    "\n",
    "\n",
    "### SUMMARY\n",
    "\n",
    "There are 13,528 raw rows of data in the dataframe, meaning there were 13,528 respondants to the survey about washing meat. There where 67 questions contained in the survey. \n",
    "\n",
    "\n",
    "`df_survey` columns:\n",
    "    \n",
    "NOTES: These are the RENAMED column titles with a description containing the original column titles. \n",
    "\n",
    "* <b>prepare_meat</b>: \"Do you prepare meat for yourself or others ?\" \n",
    "    - Response choices: 'Often', 'Sometimes', 'Seldom', and 'Never'\n",
    "* <b>age</b>: \"What is your current age?\" \n",
    "* <b>gender</b>: \"What is your gender? (Self-describe using 'other.')\"\n",
    "* <b>country_origin</b>: 'Identify your country or territory of origin'\n",
    "* <b>country_residency</b>: 'Identify your current country or territory of residency'\n",
    "* <b>us_state_residency</b>: 'Current U.S. state of residence'\n",
    "* <b>race</b>: 'What is your \"race\"? (Categories are those used by the U.S. Census Bureau — check all that apply.)'\n",
    "* <b>hispanic</b>: 'Are you of Hispanic, Latino, or Spanish origin?'\n",
    "    <br><br>\n",
    "* <b>times_prepare_meal</b>: 'How often do you prepare a meal in your household?'\n",
    "    - Response choices: 'Often', 'Sometimes', 'Seldom', and 'Never'\n",
    "* <b>household_size</b>: 'How many people are in your household?'\n",
    "* <b>importance_food_safety_cooking</b>: 'How  important is food safety to you when you cook?'\n",
    "* <b>follow_when_cooking</b>: 'Which of the following do you do regularly when cooking, preparing and consuming food products? (Check all that apply)'\n",
    "    <br><br>\n",
    "* <b>often_wash_hands</b>: 'Before you begin to prepare food in your kitchen, how often do you wash your hands with soap and warm water for at least 20 seconds?'\n",
    "* <b>often_different_plates</b>: 'Please indicate how often you do each of the following [Use different plates for handling raw meat and cooked meat]'\n",
    "    - Response choices: 'Always', 'Usually', 'Sometimes', 'About Half the time', 'Seldom', 'Never'\n",
    "* <b>often_thermometer</b>: 'Please indicate how often you do each of the following [Use a food thermometer to check the doneness for red meat, pork or poultry]'\n",
    "* <b>often_not_wash_utensils</b>: 'Please indicate how often you do each of the following [Not wash utensils used to handle raw food before they are used for cooked food]'\n",
    "* <b>often_not_wash_cutting_board</b>: 'Please indicate how often you do each of the following [Use the same cutting board without cleaning it with hot soapy water between using it for raw meat or chicken and using it for ready-to-eat food]'\n",
    "* <b>often_leave_food_2hrs</b>: 'Please indicate how often you do each of the following [Leave perishable food out of the refrigerator for more than two hours]'\n",
    "    <br><br>\n",
    "<i>Participants of the survey were asked: <b>'For each of the following raw meats, please check the box if you commonly wash or do not wash it before cooking. If you don’t eat it at all, leave the boxes blank. (Categories are those identified by the U.N. FAO as the most globally popular meats, plus fish and ground meat.)</b>. Responses of: WASH or DO NOT WASH are the options for the following:\n",
    "    <br><br>\n",
    "* <b>wash_pork</b>: '[Pork (pigs)]'\n",
    "* <b>wash_poultry</b>: '[Poultry (chicken, turkey, duck, any other bird)]'\n",
    "* <b>wash_beef</b>: '[Beef (cattle or buffalo)]'\n",
    "* <b>wash_lamb_goat</b>: '[Sheep (lamb) or goat]'\n",
    "* <b>wash_fish</b>: '[Fish (marine, fresh water, finned, shellfish, etc.)]'\n",
    "* <b>wash_ground_meat</b>: '[Ground meat]'\n",
    "* <b>wash_other</b>: '[Other]'\n",
    "* <b>wash_other_comments</b>: 'If you said \"other,\" please explain.'\n",
    "    <br><br>\n",
    "<i>Participants of the survey were asked: <b>'If you don’t commonly wash raw meat before cooking, please rank the following reasons, with #1 being the most relevant to you, #2 next most relevant, and so on. If something isn’t relevant, leave the box blank. (You may only choose one row per ranking column.)'</b>. \n",
    "    <br><br>\n",
    "* <b>donot_rank_should</b>:'[I feel like I should wash the meat, but I don’t.]\n",
    "* <b>donot_rank_clean_enough</b>: '[I believe the meat is already clean enough.]'\n",
    "* <b>donot_rank_warn_against</b>: '[I’ve heard some food safety experts recommend against washing meat.]'\n",
    "* <b>donot_rank_preserve</b>: '[I want to preserve the taste, smell, texture or appearance of the meat.]'\n",
    "* <b>donot_rank_cultural</b>: '[It is not a cultural or religious custom or tradition for me.]'\n",
    "* <b>donot_rank_other</b>: '[Other]'\n",
    "* <b>donot_rank_other_comments</b>: 'If you said \"other,\" please explain..1'\n",
    "    <br><br>\n",
    "<i>Participants of the survey were asked: <b>'If you don’t commonly wash raw meat before cooking, please rank the following reasons, with #1 being the most relevant to you, #2 next most relevant, and so on. If something isn’t relevant, leave the box blank. (You may only choose one row per ranking column.)'</b>.     \n",
    "    <br><br>\n",
    "* <b>do_rank_health</b>: '[I’m concerned about the health and safety of the meat.]'\n",
    "* <b>do_rank_religious</b>: '[I’m acting in accordance with a religious belief or practice.]'\n",
    "* <b>do_rank_nonreligious</b>: '[I’m following a non-religious custom or tradition.]'\n",
    "* <b>do_rank_taste</b>: '[I’m trying to improve the taste or smell of the meat.]'\n",
    "* <b>do_rank_texture</b>: '[I’m trying to improve the texture of the meat.]'\n",
    "* <b>do_rank_appearance</b>: '[I’m trying to improve the appearance of the meat.]'\n",
    "* <b>do_rank_other</b>: '[Other]'\n",
    "* <b>do_rank_other_comments</b>: 'If you said \"other,\" please explain..2'\n",
    "    <br><br>\n",
    "<i>Participants of the survey were asked: <b>'If you do commonly wash any raw meat before cooking, what are you trying to remove? Rank the following concerns in order of their importance to you, with #1 being the most important, #2 the next most important, and so on. If something isn’t a concern to you, leave the box blank. (You may only choose one row per ranking column.)'</b>.     \n",
    "    <br><br>\n",
    "* <b>do_rank2_pathogens</b>: '[Pathogens (bacteria, viruses, fungi, etc.)]'\n",
    "* <b>do_rank2_chemicals</b>: '[Artificial chemicals (preservatives, pesticides, cleaning solutions, etc.)]'\n",
    "* <b>do_rank2_debris</b>: '[Inedible debris (dirt, dust, bone fragments, feathers, etc.)]'\n",
    "* <b>do_rank2_flavors</b>: '[Undesirable flavors or odors]'\n",
    "* <b>do_rank2_blood</b>: '[Blood]'\n",
    "* <b>do_rank2_slime</b>: '[Slime]'\n",
    "* <b>do_rank2_fat</b>: '[Fat]'\n",
    "* <b>do_rank2_meat_juice</b>: '[Meat juice (the pink, non-blood liquid that comes out of muscle tissue)]'\n",
    "* <b>do_rank2_other</b>: [Other]\n",
    "* <b>do_rank2_other_comments</b>: 'If you said \"other,\" please explain..3'\n",
    "    <br><br>\n",
    "<i>Participants of the survey were asked: <b>'If you do commonly wash any raw meat before cooking, please rank the methods you use, with #1 being the method you use most often, #2 next most often, and so on. If you don’t use the method at all, leave the box blank. (You may only choose one row per ranking column.)'</b>.    \n",
    "    <br><br>\n",
    "* <b>do_rank3_running_water</b>: '[Rinsing under running water]'\n",
    "* <b>do_rank3_bowl_water</b>: '[Rinsing in a bowl or basin of plain water]'\n",
    "* <b>do_rank3_bowl_not_water</b>: '[Rinsing in anything other than plain water (salt brine, vinegar, citrus, etc.)]'\n",
    "* <b>do_rank3_soaking_water</b>: '[Soaking awhile in plain water]'\n",
    "* <b>do_rank3_soaking_notwater</b>: '[Soaking awhile in anything other than plain water (salt brine, vinegar, citrus, etc.)]'\n",
    "* <b>do_rank3_other</b>: '[Other]'\n",
    "* <b>do_rank3_other_commments</b>: 'If you said \"other,\" please explain..4'\n",
    "    <br><br>\n",
    "  \n",
    "* <b>commonly_rinse_with</b>: 'If you commonly rinse or soak meat before cooking, you most-often use:'\n",
    "* <b>soak_time</b>: 'If you commonly soak raw meat before cooking, please indicate how long.'\n",
    "* <b>soak_rinse_in</b>: 'If you do commonly rinse or soak raw meat in anything other than plain water, which of these things do you use? Check as many as apply.'\n",
    "    <br><br>\n",
    "    \n",
    "* <b>cleanup</b>: 'If you do commonly wash any raw meat before cooking, how do you clean up afterward? Check any that apply to you.'\n",
    "* <b>visitor_home_safety</b>: 'When you eat at someone's house, how important is it to you that they be attentive to food safety in their food preparation?'\n",
    "* <b>commercial_safety</b>: 'When you eat at a commercial eatery, how important is it to you that they be attentive to food safety in their food preparation?'\n",
    "* <b>comments_food_prep</b>: 'Is there anything else you wish to share about your food preparation practices?'\n",
    "* <b>comments_food_safety_edu</b>: 'Are there comments about consumer food safety education or food guidelines that you wish to share? '\n",
    "  \n",
    "   \n",
    "            \n",
    "</div>"
   ]
  },
  {
   "cell_type": "markdown",
   "metadata": {
    "slideshow": {
     "slide_type": "skip"
    }
   },
   "source": [
    "<div class=\"alert alert-block alert-success\">\n",
    "\n",
    "## Cleaning Plan Summary\n",
    "\n",
    "##### Tidiness Issues:\n",
    "1. Column names are the full text of the questions from the survey. [Link]\n",
    "2. Row 0 of data contains attempt of shorter column titles in the original dataset.\n",
    "\n",
    "##### Quality Issues:\n",
    "1. Datatypes for timestamp is in object.\n",
    "2. Datatype for household_size is in object.\n",
    "3. Datatype for age is in object and may contain fractional values. \n",
    "4. Gender field contain invalid entries.\n",
    "5. Age contains unrealistic entries. \n",
    "6. Race field can contain multiple entries separated by commas. \n",
    "7. Column \"household_size\" may contain decimals and numbers > 50. \n",
    " \n",
    "</div>"
   ]
  },
  {
   "cell_type": "markdown",
   "metadata": {
    "slideshow": {
     "slide_type": "slide"
    }
   },
   "source": [
    "### About the Respondents\n",
    "\n",
    "It is important to keep in mind that due to the nature of how this data was gathered, this is NOT a random sample. Therefore results, analyses, conclusions, and insights should be treated as such. This is more comparable to a market research study. \n",
    "\n",
    "# Who are these people that responded?\n",
    "\n",
    "Overall, the survey received 13,527 after it was first launched in September 2020. \n",
    "\n",
    "As seen in some of the various breakdowns of demographics -- the respondents are not evenly distributed at all. Continue below to view the breakdown in gender, country of residence, race, and age as examples."
   ]
  },
  {
   "cell_type": "code",
   "execution_count": 72,
   "metadata": {
    "slideshow": {
     "slide_type": "subslide"
    }
   },
   "outputs": [
    {
     "data": {
      "image/png": "[encoded data removed]",
      "text/plain": [
       "<Figure size 432x288 with 1 Axes>"
      ]
     },
     "metadata": {},
     "output_type": "display_data"
    }
   ],
   "source": [
    "# gender proportion - pie chart\n",
    "pie_gender = df_survey['gender'].value_counts()\n",
    "plt.pie(pie_gender, labels=pie_gender.index)\n",
    "plt.title('Gender Distribution');"
   ]
  },
  {
   "cell_type": "code",
   "execution_count": 42,
   "metadata": {
    "slideshow": {
     "slide_type": "skip"
    }
   },
   "outputs": [],
   "source": [
    "# top 10 countries\n",
    "def top(df, column):\n",
    "    \"\"\"\n",
    "    INPUT:\n",
    "        df - dataframe\n",
    "        column - str; column\n",
    "    \n",
    "    OUTPUT:\n",
    "        print statements\n",
    "        df - dataframe\n",
    "    \"\"\"\n",
    "    df_copy = df.copy()\n",
    "    df_top = df_copy[column].value_counts()\n",
    "    df_top10 = df_top.head(10)\n",
    "        \n",
    "    print(f\"=== Top 10 {column} Respondents ===\\n\")\n",
    "    \n",
    "    print(df_top10)\n",
    "    \n",
    "    return df_top10"
   ]
  },
  {
   "cell_type": "code",
   "execution_count": 74,
   "metadata": {
    "slideshow": {
     "slide_type": "skip"
    }
   },
   "outputs": [
    {
     "name": "stdout",
     "output_type": "stream",
     "text": [
      "=== Top 10 country_origin Respondents ===\n",
      "\n",
      "United States of America                                5907\n",
      "Canada                                                   757\n",
      "United Kingdom of Great Britain and Northern Ireland     717\n",
      "Germany                                                  511\n",
      "Australia                                                336\n",
      "Poland                                                   301\n",
      "Sweden                                                   293\n",
      "Netherlands                                              274\n",
      "India                                                    260\n",
      "Brazil                                                   256\n",
      "Name: country_origin, dtype: int64\n"
     ]
    },
    {
     "data": {
      "image/png": "[encoded data removed]",
      "text/plain": [
       "<Figure size 432x288 with 1 Axes>"
      ]
     },
     "metadata": {},
     "output_type": "display_data"
    }
   ],
   "source": [
    "df_top10 = top(df_survey, 'country_origin')\n",
    "\n",
    "plt.pie(df_top10, labels=df_top10.index)\n",
    "plt.title('Top 10 Countries of Origin Responses');"
   ]
  },
  {
   "cell_type": "code",
   "execution_count": 69,
   "metadata": {
    "slideshow": {
     "slide_type": "subslide"
    }
   },
   "outputs": [
    {
     "name": "stdout",
     "output_type": "stream",
     "text": [
      "=== Top 10 country_residency Respondents ===\n",
      "\n",
      "United States of America                                6343\n",
      "Canada                                                   898\n",
      "United Kingdom of Great Britain and Northern Ireland     860\n",
      "Germany                                                  569\n",
      "Australia                                                418\n",
      "Sweden                                                   318\n",
      "Netherlands                                              286\n",
      "Poland                                                   259\n",
      "Brazil                                                   231\n",
      "Denmark                                                  145\n",
      "Name: country_residency, dtype: int64\n"
     ]
    },
    {
     "data": {
      "image/png": "[encoded data removed]",
      "text/plain": [
       "<Figure size 432x288 with 1 Axes>"
      ]
     },
     "metadata": {},
     "output_type": "display_data"
    }
   ],
   "source": [
    "df_top10 = top(df_survey, 'country_residency')\n",
    "\n",
    "plt.pie(df_top10, labels=df_top10.index)\n",
    "plt.title('Top 10 Countries of Residency');"
   ]
  },
  {
   "cell_type": "code",
   "execution_count": 45,
   "metadata": {
    "slideshow": {
     "slide_type": "skip"
    }
   },
   "outputs": [
    {
     "name": "stdout",
     "output_type": "stream",
     "text": [
      "=== Top 10 us_state_residency Respondents ===\n",
      "\n",
      "California       850\n",
      "Texas            456\n",
      "New York         433\n",
      "Florida          351\n",
      "Washington       283\n",
      "Massachusetts    269\n",
      "Illinois         268\n",
      "Pennsylvania     228\n",
      "Virginia         228\n",
      "Ohio             214\n",
      "Name: us_state_residency, dtype: int64\n"
     ]
    },
    {
     "data": {
      "image/png": "[encoded data removed]",
      "text/plain": [
       "<Figure size 432x288 with 1 Axes>"
      ]
     },
     "metadata": {},
     "output_type": "display_data"
    }
   ],
   "source": [
    "# top 10 states (USA)\n",
    "top_state = top(df_survey, 'us_state_residency')\n",
    "\n",
    "# pie chart\n",
    "plt.pie(top_state, labels=top_state.index)\n",
    "\n",
    "plt.title('Top 10 US State Respondents');"
   ]
  },
  {
   "cell_type": "code",
   "execution_count": 75,
   "metadata": {
    "slideshow": {
     "slide_type": "skip"
    }
   },
   "outputs": [
    {
     "name": "stderr",
     "output_type": "stream",
     "text": [
      "<ipython-input-75-a5ad14aa3734>:5: UserWarning: You have mixed positional and keyword arguments, some input may be discarded.\n",
      "  plt.legend(wedges, labels = race_graph.index, loc ='center left', bbox_to_anchor=(1, 0, 0.5, 1))\n"
     ]
    },
    {
     "data": {
      "image/png": "[encoded data removed]",
      "text/plain": [
       "<Figure size 432x288 with 1 Axes>"
      ]
     },
     "metadata": {},
     "output_type": "display_data"
    }
   ],
   "source": [
    "# race distribution\n",
    "race_graph = df_survey['race'].value_counts()\n",
    "wedges = plt.pie(race_graph)\n",
    "\n",
    "plt.legend(wedges, labels = race_graph.index, loc ='center left', bbox_to_anchor=(1, 0, 0.5, 1))\n",
    "plt.title('Race Distribution of US Responses');"
   ]
  },
  {
   "cell_type": "code",
   "execution_count": 76,
   "metadata": {
    "slideshow": {
     "slide_type": "skip"
    }
   },
   "outputs": [
    {
     "data": {
      "text/plain": [
       "White                               4713\n",
       "Asian                                763\n",
       "Multiracial                          394\n",
       "Other                                295\n",
       "Black or African American            157\n",
       "American Indian or Alaska Native      21\n",
       "Name: race, dtype: int64"
      ]
     },
     "execution_count": 76,
     "metadata": {},
     "output_type": "execute_result"
    }
   ],
   "source": [
    "# remove 'Did not respond' \n",
    "race_revised = df_survey.copy()\n",
    "race_revised.drop(race_revised[(race_revised.race == 'Did not respond')].index, inplace=True)\n",
    "\n",
    "race_revised['race'].value_counts()"
   ]
  },
  {
   "cell_type": "code",
   "execution_count": 71,
   "metadata": {
    "slideshow": {
     "slide_type": "subslide"
    }
   },
   "outputs": [
    {
     "name": "stderr",
     "output_type": "stream",
     "text": [
      "<ipython-input-71-9cf297c4fba1>:4: UserWarning: You have mixed positional and keyword arguments, some input may be discarded.\n",
      "  plt.legend(wedges, labels = race_graph2.index, loc ='center left', bbox_to_anchor=(1, 0, 0.5, 1))\n"
     ]
    },
    {
     "data": {
      "image/png": "[encoded data removed]",
      "text/plain": [
       "<Figure size 432x288 with 1 Axes>"
      ]
     },
     "metadata": {},
     "output_type": "display_data"
    }
   ],
   "source": [
    "# race distribution with 'Did not respond' \n",
    "race_graph2 = race_revised['race'].value_counts()\n",
    "wedges = plt.pie(race_graph2)\n",
    "plt.legend(wedges, labels = race_graph2.index, loc ='center left', bbox_to_anchor=(1, 0, 0.5, 1))\n",
    "plt.title('Race Distribution - U.S. Respondents');"
   ]
  },
  {
   "cell_type": "code",
   "execution_count": 47,
   "metadata": {
    "slideshow": {
     "slide_type": "subslide"
    }
   },
   "outputs": [
    {
     "data": {
      "image/png": "[encoded data removed]",
      "text/plain": [
       "<Figure size 432x288 with 1 Axes>"
      ]
     },
     "metadata": {
      "needs_background": "light"
     },
     "output_type": "display_data"
    }
   ],
   "source": [
    "# age - histogram\n",
    "sns.histplot(data=df_survey, x=\"age\", bins=10)\n",
    "\n",
    "plt.title('Age Distribution');"
   ]
  },
  {
   "cell_type": "markdown",
   "metadata": {
    "slideshow": {
     "slide_type": "slide"
    }
   },
   "source": [
    "## Kitchen Practices\n",
    "\n",
    "Among the questions surveying information on how people treat meat and there practices in the kitchen included the following:\n",
    "\n",
    "Respondents could answer from one of the following options for each of the questions below: <br>\n",
    "  Always  |  Usually  |  Sometimes  |  About Half the time  |  Seldom  |  Never\n",
    "  \n",
    "Please indicate how often you do each of the following: \n",
    " * Use different plates for handling raw meat and cooked meat\n",
    " * Use a food thermometer to check the doneness for red meat, pork or poultry\n",
    " * Not wash utensils used to handle raw food before they are used for cooked food\n",
    " * Use the same cutting board without cleaning it with hot soapy water between using it for raw meat or chicken and using it for ready-to-eat food\n",
    " \n",
    "There were two strong areas where most of respondents showed agreement in their practices: \n",
    "1. Respondents <b>ALWAYS</b> use different plates for handling raw meat and cooked meat\n",
    "2. Respondents <b>NEVER</b> use the same cutting board without cleaning it with hot soapy water between using it for raw meat or chicken and using it for ready-to-eat food"
   ]
  },
  {
   "cell_type": "code",
   "execution_count": 48,
   "metadata": {
    "slideshow": {
     "slide_type": "skip"
    }
   },
   "outputs": [
    {
     "data": {
      "text/plain": [
       "[Always                 10745\n",
       " Usually                 1790\n",
       " Sometimes                196\n",
       " About Half the time      185\n",
       " Seldom                   137\n",
       " Never                     96\n",
       " Name: often_different_plates, dtype: int64,\n",
       " Never                  4623\n",
       " Usually                2351\n",
       " Seldom                 1866\n",
       " Sometimes              1612\n",
       " About Half the time    1414\n",
       " Always                 1276\n",
       " Name: often_thermometer, dtype: int64,\n",
       " Never                  7604\n",
       " Seldom                 2631\n",
       " Sometimes              1068\n",
       " Usually                 719\n",
       " About Half the time     674\n",
       " Always                  439\n",
       " Name: often_not_wash_utensils, dtype: int64,\n",
       " Never                  10359\n",
       " Seldom                  1420\n",
       " Sometimes                424\n",
       " Always                   331\n",
       " Usually                  312\n",
       " About Half the time      292\n",
       " Name: often_not_wash_cutting_board, dtype: int64]"
      ]
     },
     "metadata": {},
     "output_type": "display_data"
    }
   ],
   "source": [
    "# heat map - often wash:  plates, thermometer, cutting board, utensils ... after handling meat\n",
    "\n",
    "# construct df with `value_counts` for the different surfaces/items\n",
    "all_counts = []\n",
    "for item in ['often_different_plates', 'often_thermometer', 'often_not_wash_utensils', 'often_not_wash_cutting_board']:\n",
    "    all_counts.append(df_survey[item].value_counts())\n",
    "\n",
    "display(all_counts)"
   ]
  },
  {
   "cell_type": "code",
   "execution_count": 49,
   "metadata": {
    "slideshow": {
     "slide_type": "skip"
    }
   },
   "outputs": [
    {
     "data": {
      "text/html": [
       "<div>\n",
       "<style scoped>\n",
       "    .dataframe tbody tr th:only-of-type {\n",
       "        vertical-align: middle;\n",
       "    }\n",
       "\n",
       "    .dataframe tbody tr th {\n",
       "        vertical-align: top;\n",
       "    }\n",
       "\n",
       "    .dataframe thead th {\n",
       "        text-align: right;\n",
       "    }\n",
       "</style>\n",
       "<table border=\"1\" class=\"dataframe\">\n",
       "  <thead>\n",
       "    <tr style=\"text-align: right;\">\n",
       "      <th></th>\n",
       "      <th>Use Different Plates</th>\n",
       "      <th>Use Thermometer</th>\n",
       "      <th>Not Wash Utensils</th>\n",
       "      <th>Not Wash Cutting Board</th>\n",
       "    </tr>\n",
       "  </thead>\n",
       "  <tbody>\n",
       "    <tr>\n",
       "      <th>Always</th>\n",
       "      <td>10745</td>\n",
       "      <td>1276</td>\n",
       "      <td>439</td>\n",
       "      <td>331</td>\n",
       "    </tr>\n",
       "    <tr>\n",
       "      <th>Usually</th>\n",
       "      <td>1790</td>\n",
       "      <td>2351</td>\n",
       "      <td>719</td>\n",
       "      <td>312</td>\n",
       "    </tr>\n",
       "    <tr>\n",
       "      <th>Sometimes</th>\n",
       "      <td>196</td>\n",
       "      <td>1612</td>\n",
       "      <td>1068</td>\n",
       "      <td>424</td>\n",
       "    </tr>\n",
       "    <tr>\n",
       "      <th>About Half the time</th>\n",
       "      <td>185</td>\n",
       "      <td>1414</td>\n",
       "      <td>674</td>\n",
       "      <td>292</td>\n",
       "    </tr>\n",
       "    <tr>\n",
       "      <th>Seldom</th>\n",
       "      <td>137</td>\n",
       "      <td>1866</td>\n",
       "      <td>2631</td>\n",
       "      <td>1420</td>\n",
       "    </tr>\n",
       "    <tr>\n",
       "      <th>Never</th>\n",
       "      <td>96</td>\n",
       "      <td>4623</td>\n",
       "      <td>7604</td>\n",
       "      <td>10359</td>\n",
       "    </tr>\n",
       "  </tbody>\n",
       "</table>\n",
       "</div>"
      ],
      "text/plain": [
       "                     Use Different Plates  Use Thermometer  Not Wash Utensils  \\\n",
       "Always                              10745             1276                439   \n",
       "Usually                              1790             2351                719   \n",
       "Sometimes                             196             1612               1068   \n",
       "About Half the time                   185             1414                674   \n",
       "Seldom                                137             1866               2631   \n",
       "Never                                  96             4623               7604   \n",
       "\n",
       "                     Not Wash Cutting Board  \n",
       "Always                                  331  \n",
       "Usually                                 312  \n",
       "Sometimes                               424  \n",
       "About Half the time                     292  \n",
       "Seldom                                 1420  \n",
       "Never                                 10359  "
      ]
     },
     "execution_count": 49,
     "metadata": {},
     "output_type": "execute_result"
    }
   ],
   "source": [
    "items = pd.concat(all_counts, keys=['Use Different Plates', 'Use Thermometer', 'Not Wash Utensils', 'Not Wash Cutting Board'], axis=1)\n",
    "items = items.fillna(0)\n",
    "items"
   ]
  },
  {
   "cell_type": "code",
   "execution_count": 50,
   "metadata": {
    "scrolled": true,
    "slideshow": {
     "slide_type": "subslide"
    }
   },
   "outputs": [
    {
     "data": {
      "image/png": "[encoded data removed]",
      "text/plain": [
       "<Figure size 720x360 with 2 Axes>"
      ]
     },
     "metadata": {
      "needs_background": "light"
     },
     "output_type": "display_data"
    }
   ],
   "source": [
    "f, ax = plt.subplots(figsize=(10,5))\n",
    "sns.heatmap(items, annot=True, ax=ax, cmap=\"coolwarm\", fmt=\"d\");"
   ]
  },
  {
   "cell_type": "markdown",
   "metadata": {
    "slideshow": {
     "slide_type": "slide"
    }
   },
   "source": [
    "## Kitchen Practices\n",
    "\n",
    "# So, do people wash their meat?\n",
    "\n",
    "It depends on the meat. The survey asked if respondents \"WASH\" or \"DO NOT WASH\" their raw meat in food preparation based on the type of meat. The types of meat listed were:\n",
    "* Pork (pigs)\n",
    "* Poultry (chicken, turkey, duck, any other bird)\n",
    "* Beef (cattle or buffalo)\n",
    "* Sheep (lamb) or goat\n",
    "* Fish (marine, fresh water, finned, shellfish, etc.)\n",
    "* Ground meat\n",
    "* Other\n",
    "\n",
    "Overall, respondents overwhelmingly said they do NOT wash their meat -- no matter the type. The largest difference between wash and not wash was for ground meat. Fish was the closest with -- but still a sigificant difference."
   ]
  },
  {
   "cell_type": "code",
   "execution_count": 51,
   "metadata": {
    "slideshow": {
     "slide_type": "skip"
    }
   },
   "outputs": [
    {
     "data": {
      "text/plain": [
       "[Dont Wash    10405\n",
       " Wash          1436\n",
       " Name: wash_pork, dtype: int64,\n",
       " Dont Wash    10347\n",
       " Wash          2705\n",
       " Name: wash_poultry, dtype: int64,\n",
       " Dont Wash    11312\n",
       " Wash          1348\n",
       " Name: wash_beef, dtype: int64,\n",
       " Dont Wash    8824\n",
       " Wash         1172\n",
       " Name: wash_lamb_goat, dtype: int64,\n",
       " Dont Wash    8703\n",
       " Wash         3549\n",
       " Name: wash_fish, dtype: int64,\n",
       " Dont Wash    12494\n",
       " Wash           272\n",
       " Name: wash_ground_meat, dtype: int64,\n",
       " Dont Wash    2608\n",
       " Wash          560\n",
       " Name: wash_other, dtype: int64]"
      ]
     },
     "metadata": {},
     "output_type": "display_data"
    }
   ],
   "source": [
    "# wash or not wash meats - bar chart\n",
    "\n",
    "# construct df with `value_counts` washings of meats\n",
    "meat_counts = []\n",
    "for item2 in ['wash_pork', 'wash_poultry', 'wash_beef', 'wash_lamb_goat', 'wash_fish', 'wash_ground_meat', 'wash_other']:\n",
    "    meat_counts.append(df_survey[item2].value_counts())\n",
    "\n",
    "display(meat_counts)"
   ]
  },
  {
   "cell_type": "code",
   "execution_count": 52,
   "metadata": {
    "slideshow": {
     "slide_type": "skip"
    }
   },
   "outputs": [
    {
     "data": {
      "text/html": [
       "<div>\n",
       "<style scoped>\n",
       "    .dataframe tbody tr th:only-of-type {\n",
       "        vertical-align: middle;\n",
       "    }\n",
       "\n",
       "    .dataframe tbody tr th {\n",
       "        vertical-align: top;\n",
       "    }\n",
       "\n",
       "    .dataframe thead th {\n",
       "        text-align: right;\n",
       "    }\n",
       "</style>\n",
       "<table border=\"1\" class=\"dataframe\">\n",
       "  <thead>\n",
       "    <tr style=\"text-align: right;\">\n",
       "      <th></th>\n",
       "      <th>Pork</th>\n",
       "      <th>Poultry</th>\n",
       "      <th>Beef</th>\n",
       "      <th>Lamb or Goat</th>\n",
       "      <th>Fish</th>\n",
       "      <th>Ground meat</th>\n",
       "      <th>Other</th>\n",
       "    </tr>\n",
       "  </thead>\n",
       "  <tbody>\n",
       "    <tr>\n",
       "      <th>Dont Wash</th>\n",
       "      <td>10405</td>\n",
       "      <td>10347</td>\n",
       "      <td>11312</td>\n",
       "      <td>8824</td>\n",
       "      <td>8703</td>\n",
       "      <td>12494</td>\n",
       "      <td>2608</td>\n",
       "    </tr>\n",
       "    <tr>\n",
       "      <th>Wash</th>\n",
       "      <td>1436</td>\n",
       "      <td>2705</td>\n",
       "      <td>1348</td>\n",
       "      <td>1172</td>\n",
       "      <td>3549</td>\n",
       "      <td>272</td>\n",
       "      <td>560</td>\n",
       "    </tr>\n",
       "  </tbody>\n",
       "</table>\n",
       "</div>"
      ],
      "text/plain": [
       "            Pork  Poultry   Beef  Lamb or Goat  Fish  Ground meat  Other\n",
       "Dont Wash  10405    10347  11312          8824  8703        12494   2608\n",
       "Wash        1436     2705   1348          1172  3549          272    560"
      ]
     },
     "execution_count": 52,
     "metadata": {},
     "output_type": "execute_result"
    }
   ],
   "source": [
    "item2 = pd.concat(meat_counts, keys=['Pork', 'Poultry', 'Beef', 'Lamb or Goat', 'Fish', 'Ground meat', 'Other'], axis=1)\n",
    "item2 = item2.fillna(0)\n",
    "item2"
   ]
  },
  {
   "cell_type": "code",
   "execution_count": 53,
   "metadata": {
    "slideshow": {
     "slide_type": "skip"
    }
   },
   "outputs": [
    {
     "data": {
      "image/png": "[encoded data removed]",
      "text/plain": [
       "<Figure size 720x216 with 2 Axes>"
      ]
     },
     "metadata": {
      "needs_background": "light"
     },
     "output_type": "display_data"
    }
   ],
   "source": [
    "f, ax = plt.subplots(figsize=(10,3))\n",
    "sns.heatmap(item2, annot=True, ax=ax, fmt=\"d\", cmap=\"coolwarm\");"
   ]
  },
  {
   "cell_type": "code",
   "execution_count": 54,
   "metadata": {
    "slideshow": {
     "slide_type": "subslide"
    }
   },
   "outputs": [
    {
     "data": {
      "image/png": "[encoded data removed]",
      "text/plain": [
       "<Figure size 720x360 with 1 Axes>"
      ]
     },
     "metadata": {
      "needs_background": "light"
     },
     "output_type": "display_data"
    }
   ],
   "source": [
    "item2.T.plot.bar(rot=0, figsize = (10,5), color=['#1261A0', '#C21807'])\n",
    "\n",
    "# graph labels\n",
    "plt.title('Meat Washing (or Not) Practices Based on Type of Meat')\n",
    "plt.ylabel('Number of Responses')\n",
    "plt.xlabel('Type of Meat');"
   ]
  },
  {
   "cell_type": "markdown",
   "metadata": {
    "slideshow": {
     "slide_type": "slide"
    }
   },
   "source": [
    "## Safety Practices\n",
    "\n",
    "Respondents were asked \n",
    "* 'When you eat at someone's house, how important is it to you that they be attentive to food safety in their food preparation?'\n",
    "* 'When you eat at a commercial eatery, how important is it to you that they be attentive to food safety in their food preparation?'\n",
    "\n",
    "For a commerical eatery, there was a noticable pattern of safety being extremely important with '5' being the top choice then a decline to '1'. Meanwhile, when eating at someone's house the top answer was a '4' with '5' and '3' being almost tied for the second most popular answer."
   ]
  },
  {
   "cell_type": "code",
   "execution_count": 55,
   "metadata": {
    "slideshow": {
     "slide_type": "skip"
    }
   },
   "outputs": [
    {
     "data": {
      "text/plain": [
       "4      3399\n",
       "4.0    2189\n",
       "5      2060\n",
       "3      1795\n",
       "5.0    1433\n",
       "3.0    1135\n",
       "2       575\n",
       "2.0     353\n",
       "1       146\n",
       "1.0      91\n",
       "Name: visitor_home_safety, dtype: int64"
      ]
     },
     "execution_count": 55,
     "metadata": {},
     "output_type": "execute_result"
    }
   ],
   "source": [
    "# home safety vs. commercial kitchen\n",
    "df_survey['visitor_home_safety'].value_counts()"
   ]
  },
  {
   "cell_type": "code",
   "execution_count": 56,
   "metadata": {
    "slideshow": {
     "slide_type": "skip"
    }
   },
   "outputs": [
    {
     "data": {
      "text/plain": [
       "4.0    5588\n",
       "5.0    3493\n",
       "3.0    2930\n",
       "2.0     928\n",
       "1.0     237\n",
       "Name: visitor_home_safety, dtype: int64"
      ]
     },
     "execution_count": 56,
     "metadata": {},
     "output_type": "execute_result"
    }
   ],
   "source": [
    "df_survey['visitor_home_safety'] = df_survey['visitor_home_safety'].fillna(0).astype(int)\n",
    "df_survey.loc[df_survey['visitor_home_safety'] == 0,'visitor_home_safety'] = np.nan\n",
    "df_survey['visitor_home_safety'].value_counts()"
   ]
  },
  {
   "cell_type": "code",
   "execution_count": 57,
   "metadata": {
    "slideshow": {
     "slide_type": "skip"
    }
   },
   "outputs": [
    {
     "data": {
      "text/plain": [
       "5      5865\n",
       "5.0    3759\n",
       "4      1600\n",
       "4.0    1097\n",
       "3       363\n",
       "3.0     237\n",
       "2        93\n",
       "2.0      75\n",
       "1        54\n",
       "1.0      33\n",
       "Name: commercial_safety, dtype: int64"
      ]
     },
     "execution_count": 57,
     "metadata": {},
     "output_type": "execute_result"
    }
   ],
   "source": [
    "df_survey['commercial_safety'].value_counts()"
   ]
  },
  {
   "cell_type": "code",
   "execution_count": 58,
   "metadata": {
    "slideshow": {
     "slide_type": "skip"
    }
   },
   "outputs": [
    {
     "data": {
      "text/plain": [
       "5.0    9624\n",
       "4.0    2697\n",
       "3.0     600\n",
       "2.0     168\n",
       "1.0      87\n",
       "Name: commercial_safety, dtype: int64"
      ]
     },
     "execution_count": 58,
     "metadata": {},
     "output_type": "execute_result"
    }
   ],
   "source": [
    "df_survey['commercial_safety'] = df_survey['commercial_safety'].fillna(0).astype(int)\n",
    "df_survey.loc[df_survey['commercial_safety'] == 0,'commercial_safety'] = np.nan\n",
    "df_survey['commercial_safety'].value_counts()"
   ]
  },
  {
   "cell_type": "code",
   "execution_count": 59,
   "metadata": {
    "slideshow": {
     "slide_type": "skip"
    }
   },
   "outputs": [
    {
     "data": {
      "text/html": [
       "<div>\n",
       "<style scoped>\n",
       "    .dataframe tbody tr th:only-of-type {\n",
       "        vertical-align: middle;\n",
       "    }\n",
       "\n",
       "    .dataframe tbody tr th {\n",
       "        vertical-align: top;\n",
       "    }\n",
       "\n",
       "    .dataframe thead th {\n",
       "        text-align: right;\n",
       "    }\n",
       "</style>\n",
       "<table border=\"1\" class=\"dataframe\">\n",
       "  <thead>\n",
       "    <tr style=\"text-align: right;\">\n",
       "      <th></th>\n",
       "      <th>commercial_safety</th>\n",
       "      <th>visitor_home_safety</th>\n",
       "    </tr>\n",
       "  </thead>\n",
       "  <tbody>\n",
       "    <tr>\n",
       "      <th>0</th>\n",
       "      <td>2.0</td>\n",
       "      <td>1.0</td>\n",
       "    </tr>\n",
       "    <tr>\n",
       "      <th>1</th>\n",
       "      <td>5.0</td>\n",
       "      <td>5.0</td>\n",
       "    </tr>\n",
       "    <tr>\n",
       "      <th>2</th>\n",
       "      <td>5.0</td>\n",
       "      <td>4.0</td>\n",
       "    </tr>\n",
       "    <tr>\n",
       "      <th>3</th>\n",
       "      <td>5.0</td>\n",
       "      <td>4.0</td>\n",
       "    </tr>\n",
       "    <tr>\n",
       "      <th>4</th>\n",
       "      <td>4.0</td>\n",
       "      <td>2.0</td>\n",
       "    </tr>\n",
       "  </tbody>\n",
       "</table>\n",
       "</div>"
      ],
      "text/plain": [
       "   commercial_safety  visitor_home_safety\n",
       "0                2.0                  1.0\n",
       "1                5.0                  5.0\n",
       "2                5.0                  4.0\n",
       "3                5.0                  4.0\n",
       "4                4.0                  2.0"
      ]
     },
     "execution_count": 59,
     "metadata": {},
     "output_type": "execute_result"
    }
   ],
   "source": [
    "# create copy of dataframe with necessary columns\n",
    "safety_compare = df_survey.copy()\n",
    "safety_compare = safety_compare[['commercial_safety','visitor_home_safety']]\n",
    "\n",
    "safety_compare.head()"
   ]
  },
  {
   "cell_type": "code",
   "execution_count": 60,
   "metadata": {
    "slideshow": {
     "slide_type": "skip"
    }
   },
   "outputs": [
    {
     "name": "stdout",
     "output_type": "stream",
     "text": [
      "<class 'pandas.core.frame.DataFrame'>\n",
      "Int64Index: 13509 entries, 0 to 13526\n",
      "Data columns (total 2 columns):\n",
      " #   Column               Non-Null Count  Dtype  \n",
      "---  ------               --------------  -----  \n",
      " 0   commercial_safety    13176 non-null  float64\n",
      " 1   visitor_home_safety  13176 non-null  float64\n",
      "dtypes: float64(2)\n",
      "memory usage: 316.6 KB\n"
     ]
    }
   ],
   "source": [
    "# check for NaN values\n",
    "safety_compare.info()"
   ]
  },
  {
   "cell_type": "code",
   "execution_count": 61,
   "metadata": {
    "slideshow": {
     "slide_type": "skip"
    }
   },
   "outputs": [
    {
     "name": "stdout",
     "output_type": "stream",
     "text": [
      "<class 'pandas.core.frame.DataFrame'>\n",
      "Int64Index: 13176 entries, 0 to 13526\n",
      "Data columns (total 2 columns):\n",
      " #   Column               Non-Null Count  Dtype  \n",
      "---  ------               --------------  -----  \n",
      " 0   commercial_safety    13176 non-null  float64\n",
      " 1   visitor_home_safety  13176 non-null  float64\n",
      "dtypes: float64(2)\n",
      "memory usage: 308.8 KB\n"
     ]
    }
   ],
   "source": [
    "# drop rows with NaN in dataframe\n",
    "safety_compare.dropna(inplace=True)\n",
    "\n",
    "# verify rows have been dropped\n",
    "safety_compare.info()"
   ]
  },
  {
   "cell_type": "code",
   "execution_count": 62,
   "metadata": {
    "slideshow": {
     "slide_type": "skip"
    }
   },
   "outputs": [
    {
     "data": {
      "text/plain": [
       "[5.0    9624\n",
       " 4.0    2697\n",
       " 3.0     600\n",
       " 2.0     168\n",
       " 1.0      87\n",
       " Name: commercial_safety, dtype: int64,\n",
       " 4.0    5588\n",
       " 5.0    3493\n",
       " 3.0    2930\n",
       " 2.0     928\n",
       " 1.0     237\n",
       " Name: visitor_home_safety, dtype: int64]"
      ]
     },
     "execution_count": 62,
     "metadata": {},
     "output_type": "execute_result"
    }
   ],
   "source": [
    "# construct df with `value_counts` of individual columns\n",
    "safety_counts = []\n",
    "for item3 in ['commercial_safety', 'visitor_home_safety']:\n",
    "    safety_counts.append(safety_compare[item3].value_counts())\n",
    "\n",
    "safety_counts"
   ]
  },
  {
   "cell_type": "code",
   "execution_count": 63,
   "metadata": {
    "slideshow": {
     "slide_type": "skip"
    }
   },
   "outputs": [
    {
     "data": {
      "text/html": [
       "<div>\n",
       "<style scoped>\n",
       "    .dataframe tbody tr th:only-of-type {\n",
       "        vertical-align: middle;\n",
       "    }\n",
       "\n",
       "    .dataframe tbody tr th {\n",
       "        vertical-align: top;\n",
       "    }\n",
       "\n",
       "    .dataframe thead th {\n",
       "        text-align: right;\n",
       "    }\n",
       "</style>\n",
       "<table border=\"1\" class=\"dataframe\">\n",
       "  <thead>\n",
       "    <tr style=\"text-align: right;\">\n",
       "      <th></th>\n",
       "      <th>Commercial Kitchen Safety</th>\n",
       "      <th>Home Kitchen Safety</th>\n",
       "    </tr>\n",
       "  </thead>\n",
       "  <tbody>\n",
       "    <tr>\n",
       "      <th>1.0</th>\n",
       "      <td>87</td>\n",
       "      <td>237</td>\n",
       "    </tr>\n",
       "    <tr>\n",
       "      <th>2.0</th>\n",
       "      <td>168</td>\n",
       "      <td>928</td>\n",
       "    </tr>\n",
       "    <tr>\n",
       "      <th>3.0</th>\n",
       "      <td>600</td>\n",
       "      <td>2930</td>\n",
       "    </tr>\n",
       "    <tr>\n",
       "      <th>4.0</th>\n",
       "      <td>2697</td>\n",
       "      <td>5588</td>\n",
       "    </tr>\n",
       "    <tr>\n",
       "      <th>5.0</th>\n",
       "      <td>9624</td>\n",
       "      <td>3493</td>\n",
       "    </tr>\n",
       "  </tbody>\n",
       "</table>\n",
       "</div>"
      ],
      "text/plain": [
       "     Commercial Kitchen Safety  Home Kitchen Safety\n",
       "1.0                         87                  237\n",
       "2.0                        168                  928\n",
       "3.0                        600                 2930\n",
       "4.0                       2697                 5588\n",
       "5.0                       9624                 3493"
      ]
     },
     "execution_count": 63,
     "metadata": {},
     "output_type": "execute_result"
    }
   ],
   "source": [
    "item3 = pd.concat(safety_counts, keys=['Commercial Kitchen Safety', 'Home Kitchen Safety'], axis=1)\n",
    "item3 = item3.fillna(0)\n",
    "item3"
   ]
  },
  {
   "cell_type": "code",
   "execution_count": 64,
   "metadata": {
    "slideshow": {
     "slide_type": "skip"
    }
   },
   "outputs": [
    {
     "data": {
      "text/html": [
       "<div>\n",
       "<style scoped>\n",
       "    .dataframe tbody tr th:only-of-type {\n",
       "        vertical-align: middle;\n",
       "    }\n",
       "\n",
       "    .dataframe tbody tr th {\n",
       "        vertical-align: top;\n",
       "    }\n",
       "\n",
       "    .dataframe thead th {\n",
       "        text-align: right;\n",
       "    }\n",
       "</style>\n",
       "<table border=\"1\" class=\"dataframe\">\n",
       "  <thead>\n",
       "    <tr style=\"text-align: right;\">\n",
       "      <th></th>\n",
       "      <th>Commercial Kitchen Safety</th>\n",
       "      <th>Home Kitchen Safety</th>\n",
       "    </tr>\n",
       "  </thead>\n",
       "  <tbody>\n",
       "    <tr>\n",
       "      <th>5.0</th>\n",
       "      <td>9624</td>\n",
       "      <td>3493</td>\n",
       "    </tr>\n",
       "    <tr>\n",
       "      <th>4.0</th>\n",
       "      <td>2697</td>\n",
       "      <td>5588</td>\n",
       "    </tr>\n",
       "    <tr>\n",
       "      <th>3.0</th>\n",
       "      <td>600</td>\n",
       "      <td>2930</td>\n",
       "    </tr>\n",
       "    <tr>\n",
       "      <th>2.0</th>\n",
       "      <td>168</td>\n",
       "      <td>928</td>\n",
       "    </tr>\n",
       "    <tr>\n",
       "      <th>1.0</th>\n",
       "      <td>87</td>\n",
       "      <td>237</td>\n",
       "    </tr>\n",
       "  </tbody>\n",
       "</table>\n",
       "</div>"
      ],
      "text/plain": [
       "     Commercial Kitchen Safety  Home Kitchen Safety\n",
       "5.0                       9624                 3493\n",
       "4.0                       2697                 5588\n",
       "3.0                        600                 2930\n",
       "2.0                        168                  928\n",
       "1.0                         87                  237"
      ]
     },
     "execution_count": 64,
     "metadata": {},
     "output_type": "execute_result"
    }
   ],
   "source": [
    "# reverse the sequence of rows\n",
    "item3_reverse = item3[::-1]\n",
    "\n",
    "# confirm change\n",
    "item3_reverse"
   ]
  },
  {
   "cell_type": "code",
   "execution_count": 65,
   "metadata": {
    "slideshow": {
     "slide_type": "skip"
    }
   },
   "outputs": [
    {
     "data": {
      "image/png": "[encoded data removed]",
      "text/plain": [
       "<Figure size 576x288 with 2 Axes>"
      ]
     },
     "metadata": {
      "needs_background": "light"
     },
     "output_type": "display_data"
    }
   ],
   "source": [
    "f, ax = plt.subplots(figsize=(8,4))\n",
    "sns.heatmap(item3_reverse, annot=True, ax=ax, fmt=\"d\", cmap=\"coolwarm\");"
   ]
  },
  {
   "cell_type": "code",
   "execution_count": 68,
   "metadata": {
    "slideshow": {
     "slide_type": "subslide"
    }
   },
   "outputs": [
    {
     "data": {
      "image/png": "[encoded data removed]",
      "text/plain": [
       "<Figure size 576x288 with 1 Axes>"
      ]
     },
     "metadata": {
      "needs_background": "light"
     },
     "output_type": "display_data"
    }
   ],
   "source": [
    "item3_reverse.plot.bar(figsize=(8,4), rot=0)\n",
    "plt.title('Importance of Kitchen Safety');\n",
    "plt.xlabel('rating (5 = important, 1 = not important)')\n",
    "plt.ylabel('Number of Responses');"
   ]
  },
  {
   "cell_type": "markdown",
   "metadata": {
    "slideshow": {
     "slide_type": "slide"
    }
   },
   "source": [
    "#### Related additional resources/reading:\n",
    "\n",
    "* [USDA Study: Food Safety Consumer Research Project: Meal Preparation Experiment Related to Poultry Washing](https://www.fsis.usda.gov/wps/wcm/connect/9bb3a252-e12e-40e5-b76b-cb46a2322c3f/FSCRP_Year+2_Final_Aug2019.pdf?MOD=AJPERES) - Published: August 2019\n",
    "\n",
    "* [\"Don't Wash Your Chicken!\" Results of an Interdiciplinary Approach to Reduce Incidence of Infectious Foodborne Diseases](https://idea.library.drexel.edu/islandora/object/idea%3A4369/datastream/OBJ/view) - December 2013"
   ]
  },
  {
   "cell_type": "code",
   "execution_count": null,
   "metadata": {},
   "outputs": [],
   "source": []
  }
 ],
 "metadata": {
  "celltoolbar": "Slideshow",
  "kernelspec": {
   "display_name": "Python 3",
   "language": "python",
   "name": "python3"
  },
  "language_info": {
   "codemirror_mode": {
    "name": "ipython",
    "version": 3
   },
   "file_extension": ".py",
   "mimetype": "text/x-python",
   "name": "python",
   "nbconvert_exporter": "python",
   "pygments_lexer": "ipython3",
   "version": "3.8.5"
  }
 },
 "nbformat": 4,
 "nbformat_minor": 4
}
